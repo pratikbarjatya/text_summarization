{
 "cells": [
  {
   "cell_type": "code",
   "execution_count": 1,
   "metadata": {
    "_cell_guid": "b1076dfc-b9ad-4769-8c92-a6c4dae69d19",
    "_uuid": "8f2839f25d086af736a60e9eeb907d3b93b6e0e5",
    "execution": {
     "iopub.execute_input": "2021-03-22T14:46:30.862827Z",
     "iopub.status.busy": "2021-03-22T14:46:30.862233Z",
     "iopub.status.idle": "2021-03-22T14:46:30.902223Z",
     "shell.execute_reply": "2021-03-22T14:46:30.901537Z"
    },
    "papermill": {
     "duration": 0.09204,
     "end_time": "2021-03-22T14:46:30.902459",
     "exception": false,
     "start_time": "2021-03-22T14:46:30.810419",
     "status": "completed"
    },
    "tags": []
   },
   "outputs": [],
   "source": [
    "# This Python 3 environment comes with many helpful analytics libraries installed\n",
    "# It is defined by the kaggle/python Docker image: https://github.com/kaggle/docker-python\n",
    "# For example, here's several helpful packages to load\n",
    "\n",
    "import numpy as np # linear algebra\n",
    "import pandas as pd # data processing, CSV file I/O (e.g. pd.read_csv)\n",
    "\n",
    "# Input data files are available in the read-only \"../input/\" directory\n",
    "# For example, running this (by clicking run or pressing Shift+Enter) will list all files under the input directory\n",
    "\n",
    "import os\n",
    "for dirname, _, filenames in os.walk('/kaggle/input'):\n",
    "    for filename in filenames:\n",
    "        print(os.path.join(dirname, filename))\n",
    "\n",
    "# You can write up to 20GB to the current directory (/kaggle/working/) that gets preserved as output when you create a version using \"Save & Run All\" \n",
    "# You can also write temporary files to /kaggle/temp/, but they won't be saved outside of the current session"
   ]
  },
  {
   "cell_type": "code",
   "execution_count": 2,
   "metadata": {},
   "outputs": [
    {
     "name": "stdout",
     "output_type": "stream",
     "text": [
      "Requirement already satisfied: tensorflow in c:\\users\\t0244374\\anaconda3\\lib\\site-packages (2.4.1)\n",
      "Requirement already satisfied: numpy~=1.19.2 in c:\\users\\t0244374\\anaconda3\\lib\\site-packages (from tensorflow) (1.19.2)\n",
      "Requirement already satisfied: absl-py~=0.10 in c:\\users\\t0244374\\anaconda3\\lib\\site-packages (from tensorflow) (0.12.0)\n",
      "Requirement already satisfied: h5py~=2.10.0 in c:\\users\\t0244374\\anaconda3\\lib\\site-packages (from tensorflow) (2.10.0)\n",
      "Requirement already satisfied: protobuf>=3.9.2 in c:\\users\\t0244374\\anaconda3\\lib\\site-packages (from tensorflow) (3.15.8)\n",
      "Requirement already satisfied: keras-preprocessing~=1.1.2 in c:\\users\\t0244374\\anaconda3\\lib\\site-packages (from tensorflow) (1.1.2)\n",
      "Requirement already satisfied: tensorflow-estimator<2.5.0,>=2.4.0 in c:\\users\\t0244374\\anaconda3\\lib\\site-packages (from tensorflow) (2.4.0)\n",
      "Requirement already satisfied: google-pasta~=0.2 in c:\\users\\t0244374\\anaconda3\\lib\\site-packages (from tensorflow) (0.2.0)\n",
      "Requirement already satisfied: termcolor~=1.1.0 in c:\\users\\t0244374\\anaconda3\\lib\\site-packages (from tensorflow) (1.1.0)\n",
      "Requirement already satisfied: wheel~=0.35 in c:\\users\\t0244374\\anaconda3\\lib\\site-packages (from tensorflow) (0.35.1)\n",
      "Requirement already satisfied: opt-einsum~=3.3.0 in c:\\users\\t0244374\\anaconda3\\lib\\site-packages (from tensorflow) (3.3.0)\n",
      "Requirement already satisfied: grpcio~=1.32.0 in c:\\users\\t0244374\\anaconda3\\lib\\site-packages (from tensorflow) (1.32.0)\n",
      "Requirement already satisfied: wrapt~=1.12.1 in c:\\users\\t0244374\\anaconda3\\lib\\site-packages (from tensorflow) (1.12.1)\n",
      "Requirement already satisfied: tensorboard~=2.4 in c:\\users\\t0244374\\anaconda3\\lib\\site-packages (from tensorflow) (2.5.0)\n",
      "Requirement already satisfied: gast==0.3.3 in c:\\users\\t0244374\\anaconda3\\lib\\site-packages (from tensorflow) (0.3.3)\n",
      "Requirement already satisfied: six~=1.15.0 in c:\\users\\t0244374\\anaconda3\\lib\\site-packages (from tensorflow) (1.15.0)\n",
      "Requirement already satisfied: typing-extensions~=3.7.4 in c:\\users\\t0244374\\anaconda3\\lib\\site-packages (from tensorflow) (3.7.4.3)\n",
      "Requirement already satisfied: flatbuffers~=1.12.0 in c:\\users\\t0244374\\anaconda3\\lib\\site-packages (from tensorflow) (1.12)\n",
      "Requirement already satisfied: astunparse~=1.6.3 in c:\\users\\t0244374\\anaconda3\\lib\\site-packages (from tensorflow) (1.6.3)\n",
      "Requirement already satisfied: markdown>=2.6.8 in c:\\users\\t0244374\\anaconda3\\lib\\site-packages (from tensorboard~=2.4->tensorflow) (3.3.4)\n",
      "Requirement already satisfied: google-auth-oauthlib<0.5,>=0.4.1 in c:\\users\\t0244374\\anaconda3\\lib\\site-packages (from tensorboard~=2.4->tensorflow) (0.4.4)\n",
      "Requirement already satisfied: requests<3,>=2.21.0 in c:\\users\\t0244374\\anaconda3\\lib\\site-packages (from tensorboard~=2.4->tensorflow) (2.24.0)\n",
      "Requirement already satisfied: tensorboard-data-server<0.7.0,>=0.6.0 in c:\\users\\t0244374\\anaconda3\\lib\\site-packages (from tensorboard~=2.4->tensorflow) (0.6.0)\n",
      "Requirement already satisfied: setuptools>=41.0.0 in c:\\users\\t0244374\\anaconda3\\lib\\site-packages (from tensorboard~=2.4->tensorflow) (50.3.1.post20201107)\n",
      "Requirement already satisfied: google-auth<2,>=1.6.3 in c:\\users\\t0244374\\anaconda3\\lib\\site-packages (from tensorboard~=2.4->tensorflow) (1.29.0)\n",
      "Requirement already satisfied: tensorboard-plugin-wit>=1.6.0 in c:\\users\\t0244374\\anaconda3\\lib\\site-packages (from tensorboard~=2.4->tensorflow) (1.8.0)\n",
      "Requirement already satisfied: werkzeug>=0.11.15 in c:\\users\\t0244374\\anaconda3\\lib\\site-packages (from tensorboard~=2.4->tensorflow) (1.0.1)\n",
      "Requirement already satisfied: requests-oauthlib>=0.7.0 in c:\\users\\t0244374\\anaconda3\\lib\\site-packages (from google-auth-oauthlib<0.5,>=0.4.1->tensorboard~=2.4->tensorflow) (1.3.0)\n",
      "Requirement already satisfied: chardet<4,>=3.0.2 in c:\\users\\t0244374\\anaconda3\\lib\\site-packages (from requests<3,>=2.21.0->tensorboard~=2.4->tensorflow) (3.0.4)\n",
      "Requirement already satisfied: idna<3,>=2.5 in c:\\users\\t0244374\\anaconda3\\lib\\site-packages (from requests<3,>=2.21.0->tensorboard~=2.4->tensorflow) (2.10)\n",
      "Requirement already satisfied: urllib3!=1.25.0,!=1.25.1,<1.26,>=1.21.1 in c:\\users\\t0244374\\anaconda3\\lib\\site-packages (from requests<3,>=2.21.0->tensorboard~=2.4->tensorflow) (1.25.11)\n",
      "Requirement already satisfied: certifi>=2017.4.17 in c:\\users\\t0244374\\anaconda3\\lib\\site-packages (from requests<3,>=2.21.0->tensorboard~=2.4->tensorflow) (2020.6.20)\n",
      "Requirement already satisfied: cachetools<5.0,>=2.0.0 in c:\\users\\t0244374\\anaconda3\\lib\\site-packages (from google-auth<2,>=1.6.3->tensorboard~=2.4->tensorflow) (4.2.1)\n",
      "Requirement already satisfied: pyasn1-modules>=0.2.1 in c:\\users\\t0244374\\anaconda3\\lib\\site-packages (from google-auth<2,>=1.6.3->tensorboard~=2.4->tensorflow) (0.2.8)\n",
      "Requirement already satisfied: rsa<5,>=3.1.4; python_version >= \"3.6\" in c:\\users\\t0244374\\anaconda3\\lib\\site-packages (from google-auth<2,>=1.6.3->tensorboard~=2.4->tensorflow) (4.7.2)\n",
      "Requirement already satisfied: oauthlib>=3.0.0 in c:\\users\\t0244374\\anaconda3\\lib\\site-packages (from requests-oauthlib>=0.7.0->google-auth-oauthlib<0.5,>=0.4.1->tensorboard~=2.4->tensorflow) (3.1.0)\n",
      "Requirement already satisfied: pyasn1<0.5.0,>=0.4.6 in c:\\users\\t0244374\\anaconda3\\lib\\site-packages (from pyasn1-modules>=0.2.1->google-auth<2,>=1.6.3->tensorboard~=2.4->tensorflow) (0.4.8)\n",
      "Note: you may need to restart the kernel to use updated packages.\n"
     ]
    }
   ],
   "source": [
    "pip install tensorflow"
   ]
  },
  {
   "cell_type": "code",
   "execution_count": 3,
   "metadata": {
    "execution": {
     "iopub.execute_input": "2021-03-22T14:46:30.998325Z",
     "iopub.status.busy": "2021-03-22T14:46:30.997697Z",
     "iopub.status.idle": "2021-03-22T14:46:36.900849Z",
     "shell.execute_reply": "2021-03-22T14:46:36.901716Z"
    },
    "papermill": {
     "duration": 5.953084,
     "end_time": "2021-03-22T14:46:36.901990",
     "exception": false,
     "start_time": "2021-03-22T14:46:30.948906",
     "status": "completed"
    },
    "tags": []
   },
   "outputs": [
    {
     "name": "stdout",
     "output_type": "stream",
     "text": [
      "Num GPUs Available:  0\n"
     ]
    }
   ],
   "source": [
    "import tensorflow as tf\n",
    "print(\"Num GPUs Available: \", len(tf.config.list_physical_devices('GPU')))"
   ]
  },
  {
   "cell_type": "code",
   "execution_count": 4,
   "metadata": {
    "execution": {
     "iopub.execute_input": "2021-03-22T14:46:37.093860Z",
     "iopub.status.busy": "2021-03-22T14:46:37.092960Z",
     "iopub.status.idle": "2021-03-22T14:46:56.488753Z",
     "shell.execute_reply": "2021-03-22T14:46:56.488179Z"
    },
    "papermill": {
     "duration": 19.48794,
     "end_time": "2021-03-22T14:46:56.488893",
     "exception": false,
     "start_time": "2021-03-22T14:46:37.000953",
     "status": "completed"
    },
    "tags": []
   },
   "outputs": [
    {
     "name": "stdout",
     "output_type": "stream",
     "text": [
      "Requirement already satisfied: bs4 in c:\\users\\t0244374\\anaconda3\\lib\\site-packages (0.0.1)\n",
      "Requirement already satisfied: beautifulsoup4 in c:\\users\\t0244374\\anaconda3\\lib\\site-packages (from bs4) (4.9.3)\n",
      "Requirement already satisfied: soupsieve>1.2; python_version >= \"3.0\" in c:\\users\\t0244374\\anaconda3\\lib\\site-packages (from beautifulsoup4->bs4) (2.0.1)\n",
      "Collecting contractions\n",
      "  Using cached contractions-0.0.48-py2.py3-none-any.whl (6.4 kB)\n",
      "Collecting textsearch>=0.0.21\n",
      "  Using cached textsearch-0.0.21-py2.py3-none-any.whl (7.5 kB)\n",
      "Requirement already satisfied: anyascii in c:\\users\\t0244374\\anaconda3\\lib\\site-packages (from textsearch>=0.0.21->contractions) (0.2.0)\n",
      "Collecting pyahocorasick\n",
      "  Using cached pyahocorasick-1.4.2.tar.gz (321 kB)\n",
      "Building wheels for collected packages: pyahocorasick\n",
      "  Building wheel for pyahocorasick (setup.py): started\n",
      "  Building wheel for pyahocorasick (setup.py): finished with status 'error'\n",
      "  Running setup.py clean for pyahocorasick\n",
      "Failed to build pyahocorasick\n",
      "Installing collected packages: pyahocorasick, textsearch, contractions\n",
      "    Running setup.py install for pyahocorasick: started\n",
      "    Running setup.py install for pyahocorasick: finished with status 'error'\n"
     ]
    },
    {
     "name": "stderr",
     "output_type": "stream",
     "text": [
      "  ERROR: Command errored out with exit status 1:\n",
      "   command: 'C:\\Users\\t0244374\\Anaconda3\\python.exe' -u -c 'import sys, setuptools, tokenize; sys.argv[0] = '\"'\"'C:\\\\Users\\\\t0244374\\\\AppData\\\\Local\\\\Temp\\\\pip-install-nt2x0f1l\\\\pyahocorasick\\\\setup.py'\"'\"'; __file__='\"'\"'C:\\\\Users\\\\t0244374\\\\AppData\\\\Local\\\\Temp\\\\pip-install-nt2x0f1l\\\\pyahocorasick\\\\setup.py'\"'\"';f=getattr(tokenize, '\"'\"'open'\"'\"', open)(__file__);code=f.read().replace('\"'\"'\\r\\n'\"'\"', '\"'\"'\\n'\"'\"');f.close();exec(compile(code, __file__, '\"'\"'exec'\"'\"'))' bdist_wheel -d 'C:\\Users\\t0244374\\AppData\\Local\\Temp\\pip-wheel-zxpqwj59'\n",
      "       cwd: C:\\Users\\t0244374\\AppData\\Local\\Temp\\pip-install-nt2x0f1l\\pyahocorasick\\\n",
      "  Complete output (5 lines):\n",
      "  running bdist_wheel\n",
      "  running build\n",
      "  running build_ext\n",
      "  building 'ahocorasick' extension\n",
      "  error: Microsoft Visual C++ 14.0 or greater is required. Get it with \"Microsoft C++ Build Tools\": https://visualstudio.microsoft.com/visual-cpp-build-tools/\n",
      "  ----------------------------------------\n",
      "  ERROR: Failed building wheel for pyahocorasick\n",
      "    ERROR: Command errored out with exit status 1:\n",
      "     command: 'C:\\Users\\t0244374\\Anaconda3\\python.exe' -u -c 'import sys, setuptools, tokenize; sys.argv[0] = '\"'\"'C:\\\\Users\\\\t0244374\\\\AppData\\\\Local\\\\Temp\\\\pip-install-nt2x0f1l\\\\pyahocorasick\\\\setup.py'\"'\"'; __file__='\"'\"'C:\\\\Users\\\\t0244374\\\\AppData\\\\Local\\\\Temp\\\\pip-install-nt2x0f1l\\\\pyahocorasick\\\\setup.py'\"'\"';f=getattr(tokenize, '\"'\"'open'\"'\"', open)(__file__);code=f.read().replace('\"'\"'\\r\\n'\"'\"', '\"'\"'\\n'\"'\"');f.close();exec(compile(code, __file__, '\"'\"'exec'\"'\"'))' install --record 'C:\\Users\\t0244374\\AppData\\Local\\Temp\\pip-record-lbpo54vs\\install-record.txt' --single-version-externally-managed --compile --install-headers 'C:\\Users\\t0244374\\Anaconda3\\Include\\pyahocorasick'\n",
      "         cwd: C:\\Users\\t0244374\\AppData\\Local\\Temp\\pip-install-nt2x0f1l\\pyahocorasick\\\n",
      "    Complete output (5 lines):\n",
      "    running install\n",
      "    running build\n",
      "    running build_ext\n",
      "    building 'ahocorasick' extension\n",
      "    error: Microsoft Visual C++ 14.0 or greater is required. Get it with \"Microsoft C++ Build Tools\": https://visualstudio.microsoft.com/visual-cpp-build-tools/\n",
      "    ----------------------------------------\n",
      "ERROR: Command errored out with exit status 1: 'C:\\Users\\t0244374\\Anaconda3\\python.exe' -u -c 'import sys, setuptools, tokenize; sys.argv[0] = '\"'\"'C:\\\\Users\\\\t0244374\\\\AppData\\\\Local\\\\Temp\\\\pip-install-nt2x0f1l\\\\pyahocorasick\\\\setup.py'\"'\"'; __file__='\"'\"'C:\\\\Users\\\\t0244374\\\\AppData\\\\Local\\\\Temp\\\\pip-install-nt2x0f1l\\\\pyahocorasick\\\\setup.py'\"'\"';f=getattr(tokenize, '\"'\"'open'\"'\"', open)(__file__);code=f.read().replace('\"'\"'\\r\\n'\"'\"', '\"'\"'\\n'\"'\"');f.close();exec(compile(code, __file__, '\"'\"'exec'\"'\"'))' install --record 'C:\\Users\\t0244374\\AppData\\Local\\Temp\\pip-record-lbpo54vs\\install-record.txt' --single-version-externally-managed --compile --install-headers 'C:\\Users\\t0244374\\Anaconda3\\Include\\pyahocorasick' Check the logs for full command output.\n"
     ]
    }
   ],
   "source": [
    "!pip install bs4\n",
    "!pip install contractions"
   ]
  },
  {
   "cell_type": "code",
   "execution_count": 5,
   "metadata": {
    "execution": {
     "iopub.execute_input": "2021-03-22T14:46:56.608713Z",
     "iopub.status.busy": "2021-03-22T14:46:56.607886Z",
     "iopub.status.idle": "2021-03-22T14:46:57.115039Z",
     "shell.execute_reply": "2021-03-22T14:46:57.114542Z"
    },
    "papermill": {
     "duration": 0.56967,
     "end_time": "2021-03-22T14:46:57.115166",
     "exception": false,
     "start_time": "2021-03-22T14:46:56.545496",
     "status": "completed"
    },
    "tags": []
   },
   "outputs": [],
   "source": [
    "import seaborn as sns\n",
    "import matplotlib.pyplot as plt"
   ]
  },
  {
   "cell_type": "code",
   "execution_count": 6,
   "metadata": {
    "execution": {
     "iopub.execute_input": "2021-03-22T14:46:57.231651Z",
     "iopub.status.busy": "2021-03-22T14:46:57.231065Z",
     "iopub.status.idle": "2021-03-22T14:47:04.297932Z",
     "shell.execute_reply": "2021-03-22T14:47:04.296894Z"
    },
    "papermill": {
     "duration": 7.128261,
     "end_time": "2021-03-22T14:47:04.298072",
     "exception": false,
     "start_time": "2021-03-22T14:46:57.169811",
     "status": "completed"
    },
    "tags": []
   },
   "outputs": [],
   "source": [
    "reviews = pd.read_csv('../dataset/Reviews.csv')"
   ]
  },
  {
   "cell_type": "code",
   "execution_count": 7,
   "metadata": {
    "execution": {
     "iopub.execute_input": "2021-03-22T14:47:04.411746Z",
     "iopub.status.busy": "2021-03-22T14:47:04.409872Z",
     "iopub.status.idle": "2021-03-22T14:47:04.412311Z",
     "shell.execute_reply": "2021-03-22T14:47:04.412722Z"
    },
    "papermill": {
     "duration": 0.060369,
     "end_time": "2021-03-22T14:47:04.412849",
     "exception": false,
     "start_time": "2021-03-22T14:47:04.352480",
     "status": "completed"
    },
    "tags": []
   },
   "outputs": [],
   "source": [
    "# reviews = reviews.iloc[:20000]"
   ]
  },
  {
   "cell_type": "code",
   "execution_count": 8,
   "metadata": {
    "execution": {
     "iopub.execute_input": "2021-03-22T14:47:04.538968Z",
     "iopub.status.busy": "2021-03-22T14:47:04.528469Z",
     "iopub.status.idle": "2021-03-22T14:47:04.548335Z",
     "shell.execute_reply": "2021-03-22T14:47:04.548752Z"
    },
    "papermill": {
     "duration": 0.082449,
     "end_time": "2021-03-22T14:47:04.548876",
     "exception": false,
     "start_time": "2021-03-22T14:47:04.466427",
     "status": "completed"
    },
    "tags": []
   },
   "outputs": [
    {
     "data": {
      "text/html": [
       "<div>\n",
       "<style scoped>\n",
       "    .dataframe tbody tr th:only-of-type {\n",
       "        vertical-align: middle;\n",
       "    }\n",
       "\n",
       "    .dataframe tbody tr th {\n",
       "        vertical-align: top;\n",
       "    }\n",
       "\n",
       "    .dataframe thead th {\n",
       "        text-align: right;\n",
       "    }\n",
       "</style>\n",
       "<table border=\"1\" class=\"dataframe\">\n",
       "  <thead>\n",
       "    <tr style=\"text-align: right;\">\n",
       "      <th></th>\n",
       "      <th>Id</th>\n",
       "      <th>ProductId</th>\n",
       "      <th>UserId</th>\n",
       "      <th>ProfileName</th>\n",
       "      <th>HelpfulnessNumerator</th>\n",
       "      <th>HelpfulnessDenominator</th>\n",
       "      <th>Score</th>\n",
       "      <th>Time</th>\n",
       "      <th>Summary</th>\n",
       "      <th>Text</th>\n",
       "    </tr>\n",
       "  </thead>\n",
       "  <tbody>\n",
       "    <tr>\n",
       "      <th>0</th>\n",
       "      <td>1</td>\n",
       "      <td>B001E4KFG0</td>\n",
       "      <td>A3SGXH7AUHU8GW</td>\n",
       "      <td>delmartian</td>\n",
       "      <td>1</td>\n",
       "      <td>1</td>\n",
       "      <td>5</td>\n",
       "      <td>1303862400</td>\n",
       "      <td>Good Quality Dog Food</td>\n",
       "      <td>I have bought several of the Vitality canned d...</td>\n",
       "    </tr>\n",
       "    <tr>\n",
       "      <th>1</th>\n",
       "      <td>2</td>\n",
       "      <td>B00813GRG4</td>\n",
       "      <td>A1D87F6ZCVE5NK</td>\n",
       "      <td>dll pa</td>\n",
       "      <td>0</td>\n",
       "      <td>0</td>\n",
       "      <td>1</td>\n",
       "      <td>1346976000</td>\n",
       "      <td>Not as Advertised</td>\n",
       "      <td>Product arrived labeled as Jumbo Salted Peanut...</td>\n",
       "    </tr>\n",
       "    <tr>\n",
       "      <th>2</th>\n",
       "      <td>3</td>\n",
       "      <td>B000LQOCH0</td>\n",
       "      <td>ABXLMWJIXXAIN</td>\n",
       "      <td>Natalia Corres \"Natalia Corres\"</td>\n",
       "      <td>1</td>\n",
       "      <td>1</td>\n",
       "      <td>4</td>\n",
       "      <td>1219017600</td>\n",
       "      <td>\"Delight\" says it all</td>\n",
       "      <td>This is a confection that has been around a fe...</td>\n",
       "    </tr>\n",
       "    <tr>\n",
       "      <th>3</th>\n",
       "      <td>4</td>\n",
       "      <td>B000UA0QIQ</td>\n",
       "      <td>A395BORC6FGVXV</td>\n",
       "      <td>Karl</td>\n",
       "      <td>3</td>\n",
       "      <td>3</td>\n",
       "      <td>2</td>\n",
       "      <td>1307923200</td>\n",
       "      <td>Cough Medicine</td>\n",
       "      <td>If you are looking for the secret ingredient i...</td>\n",
       "    </tr>\n",
       "    <tr>\n",
       "      <th>4</th>\n",
       "      <td>5</td>\n",
       "      <td>B006K2ZZ7K</td>\n",
       "      <td>A1UQRSCLF8GW1T</td>\n",
       "      <td>Michael D. Bigham \"M. Wassir\"</td>\n",
       "      <td>0</td>\n",
       "      <td>0</td>\n",
       "      <td>5</td>\n",
       "      <td>1350777600</td>\n",
       "      <td>Great taffy</td>\n",
       "      <td>Great taffy at a great price.  There was a wid...</td>\n",
       "    </tr>\n",
       "  </tbody>\n",
       "</table>\n",
       "</div>"
      ],
      "text/plain": [
       "   Id   ProductId          UserId                      ProfileName  \\\n",
       "0   1  B001E4KFG0  A3SGXH7AUHU8GW                       delmartian   \n",
       "1   2  B00813GRG4  A1D87F6ZCVE5NK                           dll pa   \n",
       "2   3  B000LQOCH0   ABXLMWJIXXAIN  Natalia Corres \"Natalia Corres\"   \n",
       "3   4  B000UA0QIQ  A395BORC6FGVXV                             Karl   \n",
       "4   5  B006K2ZZ7K  A1UQRSCLF8GW1T    Michael D. Bigham \"M. Wassir\"   \n",
       "\n",
       "   HelpfulnessNumerator  HelpfulnessDenominator  Score        Time  \\\n",
       "0                     1                       1      5  1303862400   \n",
       "1                     0                       0      1  1346976000   \n",
       "2                     1                       1      4  1219017600   \n",
       "3                     3                       3      2  1307923200   \n",
       "4                     0                       0      5  1350777600   \n",
       "\n",
       "                 Summary                                               Text  \n",
       "0  Good Quality Dog Food  I have bought several of the Vitality canned d...  \n",
       "1      Not as Advertised  Product arrived labeled as Jumbo Salted Peanut...  \n",
       "2  \"Delight\" says it all  This is a confection that has been around a fe...  \n",
       "3         Cough Medicine  If you are looking for the secret ingredient i...  \n",
       "4            Great taffy  Great taffy at a great price.  There was a wid...  "
      ]
     },
     "execution_count": 8,
     "metadata": {},
     "output_type": "execute_result"
    }
   ],
   "source": [
    "reviews.head()"
   ]
  },
  {
   "cell_type": "code",
   "execution_count": 9,
   "metadata": {
    "execution": {
     "iopub.execute_input": "2021-03-22T14:47:04.664752Z",
     "iopub.status.busy": "2021-03-22T14:47:04.664060Z",
     "iopub.status.idle": "2021-03-22T14:47:04.667333Z",
     "shell.execute_reply": "2021-03-22T14:47:04.667744Z"
    },
    "papermill": {
     "duration": 0.064836,
     "end_time": "2021-03-22T14:47:04.667865",
     "exception": false,
     "start_time": "2021-03-22T14:47:04.603029",
     "status": "completed"
    },
    "tags": []
   },
   "outputs": [
    {
     "data": {
      "text/plain": [
       "\"I don't know if it's the cactus or the tequila or just the unique combination of ingredients, but the flavour of this hot sauce makes it one of a kind!  We picked up a bottle once on a trip we were on and brought it back home with us and were totally blown away!  When we realized that we simply couldn't find it anywhere in our city we were bummed.<br /><br />Now, because of the magic of the internet, we have a case of the sauce and are ecstatic because of it.<br /><br />If you love hot sauce..I mean really love hot sauce, but don't want a sauce that tastelessly burns your throat, grab a bottle of Tequila Picante Gourmet de Inclan.  Just realize that once you taste it, you will never want to use any other sauce.<br /><br />Thank you for the personal, incredible service!\""
      ]
     },
     "execution_count": 9,
     "metadata": {},
     "output_type": "execute_result"
    }
   ],
   "source": [
    "reviews.iloc[10].Text"
   ]
  },
  {
   "cell_type": "code",
   "execution_count": 10,
   "metadata": {
    "execution": {
     "iopub.execute_input": "2021-03-22T14:47:04.782098Z",
     "iopub.status.busy": "2021-03-22T14:47:04.781586Z",
     "iopub.status.idle": "2021-03-22T14:47:04.787743Z",
     "shell.execute_reply": "2021-03-22T14:47:04.787208Z"
    },
    "papermill": {
     "duration": 0.065477,
     "end_time": "2021-03-22T14:47:04.787856",
     "exception": false,
     "start_time": "2021-03-22T14:47:04.722379",
     "status": "completed"
    },
    "tags": []
   },
   "outputs": [
    {
     "data": {
      "text/plain": [
       "'The Best Hot Sauce in the World'"
      ]
     },
     "execution_count": 10,
     "metadata": {},
     "output_type": "execute_result"
    }
   ],
   "source": [
    "reviews.iloc[10].Summary"
   ]
  },
  {
   "cell_type": "code",
   "execution_count": 11,
   "metadata": {
    "execution": {
     "iopub.execute_input": "2021-03-22T14:47:04.901856Z",
     "iopub.status.busy": "2021-03-22T14:47:04.901325Z",
     "iopub.status.idle": "2021-03-22T14:47:05.198900Z",
     "shell.execute_reply": "2021-03-22T14:47:05.197758Z"
    },
    "papermill": {
     "duration": 0.356246,
     "end_time": "2021-03-22T14:47:05.199041",
     "exception": false,
     "start_time": "2021-03-22T14:47:04.842795",
     "status": "completed"
    },
    "tags": []
   },
   "outputs": [
    {
     "name": "stdout",
     "output_type": "stream",
     "text": [
      "<class 'pandas.core.frame.DataFrame'>\n",
      "RangeIndex: 568454 entries, 0 to 568453\n",
      "Data columns (total 10 columns):\n",
      " #   Column                  Non-Null Count   Dtype \n",
      "---  ------                  --------------   ----- \n",
      " 0   Id                      568454 non-null  int64 \n",
      " 1   ProductId               568454 non-null  object\n",
      " 2   UserId                  568454 non-null  object\n",
      " 3   ProfileName             568438 non-null  object\n",
      " 4   HelpfulnessNumerator    568454 non-null  int64 \n",
      " 5   HelpfulnessDenominator  568454 non-null  int64 \n",
      " 6   Score                   568454 non-null  int64 \n",
      " 7   Time                    568454 non-null  int64 \n",
      " 8   Summary                 568427 non-null  object\n",
      " 9   Text                    568454 non-null  object\n",
      "dtypes: int64(5), object(5)\n",
      "memory usage: 43.4+ MB\n"
     ]
    }
   ],
   "source": [
    "reviews.info()"
   ]
  },
  {
   "cell_type": "markdown",
   "metadata": {
    "papermill": {
     "duration": 0.056258,
     "end_time": "2021-03-22T14:47:05.312243",
     "exception": false,
     "start_time": "2021-03-22T14:47:05.255985",
     "status": "completed"
    },
    "tags": []
   },
   "source": [
    "## Get Total unique Products"
   ]
  },
  {
   "cell_type": "code",
   "execution_count": 12,
   "metadata": {
    "execution": {
     "iopub.execute_input": "2021-03-22T14:47:05.428006Z",
     "iopub.status.busy": "2021-03-22T14:47:05.427493Z",
     "iopub.status.idle": "2021-03-22T14:47:06.523854Z",
     "shell.execute_reply": "2021-03-22T14:47:06.524291Z"
    },
    "papermill": {
     "duration": 1.156218,
     "end_time": "2021-03-22T14:47:06.524458",
     "exception": false,
     "start_time": "2021-03-22T14:47:05.368240",
     "status": "completed"
    },
    "tags": []
   },
   "outputs": [
    {
     "data": {
      "text/plain": [
       "Id                        568454\n",
       "ProductId                  74258\n",
       "UserId                    256059\n",
       "ProfileName               218416\n",
       "HelpfulnessNumerator         231\n",
       "HelpfulnessDenominator       234\n",
       "Score                          5\n",
       "Time                        3168\n",
       "Summary                   295742\n",
       "Text                      393579\n",
       "dtype: int64"
      ]
     },
     "execution_count": 12,
     "metadata": {},
     "output_type": "execute_result"
    }
   ],
   "source": [
    "reviews.nunique()"
   ]
  },
  {
   "cell_type": "code",
   "execution_count": 13,
   "metadata": {
    "execution": {
     "iopub.execute_input": "2021-03-22T14:47:06.640224Z",
     "iopub.status.busy": "2021-03-22T14:47:06.639714Z",
     "iopub.status.idle": "2021-03-22T14:47:06.940339Z",
     "shell.execute_reply": "2021-03-22T14:47:06.939912Z"
    },
    "papermill": {
     "duration": 0.360055,
     "end_time": "2021-03-22T14:47:06.940487",
     "exception": false,
     "start_time": "2021-03-22T14:47:06.580432",
     "status": "completed"
    },
    "tags": []
   },
   "outputs": [
    {
     "data": {
      "text/plain": [
       "Id                         0\n",
       "ProductId                  0\n",
       "UserId                     0\n",
       "ProfileName               16\n",
       "HelpfulnessNumerator       0\n",
       "HelpfulnessDenominator     0\n",
       "Score                      0\n",
       "Time                       0\n",
       "Summary                   27\n",
       "Text                       0\n",
       "dtype: int64"
      ]
     },
     "execution_count": 13,
     "metadata": {},
     "output_type": "execute_result"
    }
   ],
   "source": [
    "reviews.isnull().sum()\n",
    "# ProfileName doesnt matter since UserId and ProfileName is same. So If UserId is present then we should not care about ProfileName"
   ]
  },
  {
   "cell_type": "code",
   "execution_count": 14,
   "metadata": {
    "execution": {
     "iopub.execute_input": "2021-03-22T14:47:07.109830Z",
     "iopub.status.busy": "2021-03-22T14:47:07.109108Z",
     "iopub.status.idle": "2021-03-22T14:47:07.118150Z",
     "shell.execute_reply": "2021-03-22T14:47:07.117739Z"
    },
    "papermill": {
     "duration": 0.120211,
     "end_time": "2021-03-22T14:47:07.118268",
     "exception": false,
     "start_time": "2021-03-22T14:47:06.998057",
     "status": "completed"
    },
    "tags": []
   },
   "outputs": [
    {
     "data": {
      "text/plain": [
       "A3TJPSWY2HE4BS    25\n",
       "A15AMT9T9A1309     1\n",
       "A22R17YPXEULEZ     1\n",
       "Name: UserId, dtype: int64"
      ]
     },
     "execution_count": 14,
     "metadata": {},
     "output_type": "execute_result"
    }
   ],
   "source": [
    "# users who didnt provide Summary\n",
    "reviews[reviews.Summary.isnull()].UserId.value_counts()"
   ]
  },
  {
   "cell_type": "code",
   "execution_count": 15,
   "metadata": {
    "execution": {
     "iopub.execute_input": "2021-03-22T14:47:07.236572Z",
     "iopub.status.busy": "2021-03-22T14:47:07.235871Z",
     "iopub.status.idle": "2021-03-22T14:47:07.246780Z",
     "shell.execute_reply": "2021-03-22T14:47:07.246329Z"
    },
    "papermill": {
     "duration": 0.071409,
     "end_time": "2021-03-22T14:47:07.246885",
     "exception": false,
     "start_time": "2021-03-22T14:47:07.175476",
     "status": "completed"
    },
    "tags": []
   },
   "outputs": [
    {
     "data": {
      "text/plain": [
       "5    363122\n",
       "4     80655\n",
       "1     52268\n",
       "3     42640\n",
       "2     29769\n",
       "Name: Score, dtype: int64"
      ]
     },
     "execution_count": 15,
     "metadata": {},
     "output_type": "execute_result"
    }
   ],
   "source": [
    "# How many users provided, respective ratings\n",
    "reviews.Score.value_counts()"
   ]
  },
  {
   "cell_type": "code",
   "execution_count": 16,
   "metadata": {
    "execution": {
     "iopub.execute_input": "2021-03-22T14:47:07.366350Z",
     "iopub.status.busy": "2021-03-22T14:47:07.365673Z",
     "iopub.status.idle": "2021-03-22T14:47:07.527622Z",
     "shell.execute_reply": "2021-03-22T14:47:07.526929Z"
    },
    "papermill": {
     "duration": 0.223106,
     "end_time": "2021-03-22T14:47:07.527749",
     "exception": false,
     "start_time": "2021-03-22T14:47:07.304643",
     "status": "completed"
    },
    "tags": []
   },
   "outputs": [
    {
     "data": {
      "text/plain": [
       "<AxesSubplot:>"
      ]
     },
     "execution_count": 16,
     "metadata": {},
     "output_type": "execute_result"
    },
    {
     "data": {
      "image/png": "[encoded data removed]",
      "text/plain": [
       "<Figure size 432x288 with 1 Axes>"
      ]
     },
     "metadata": {
      "needs_background": "light"
     },
     "output_type": "display_data"
    }
   ],
   "source": [
    "reviews.Score.value_counts().plot.bar()"
   ]
  },
  {
   "cell_type": "code",
   "execution_count": 17,
   "metadata": {
    "execution": {
     "iopub.execute_input": "2021-03-22T14:47:07.648625Z",
     "iopub.status.busy": "2021-03-22T14:47:07.647285Z",
     "iopub.status.idle": "2021-03-22T14:47:07.652628Z",
     "shell.execute_reply": "2021-03-22T14:47:07.652212Z"
    },
    "papermill": {
     "duration": 0.066539,
     "end_time": "2021-03-22T14:47:07.652747",
     "exception": false,
     "start_time": "2021-03-22T14:47:07.586208",
     "status": "completed"
    },
    "tags": []
   },
   "outputs": [
    {
     "data": {
      "text/plain": [
       "4.183198640523243"
      ]
     },
     "execution_count": 17,
     "metadata": {},
     "output_type": "execute_result"
    }
   ],
   "source": [
    "# Most of the reviews are positive, So ppl do like food , Average of the Score is 4.1\n",
    "reviews.Score.mean()"
   ]
  },
  {
   "cell_type": "code",
   "execution_count": 18,
   "metadata": {
    "execution": {
     "iopub.execute_input": "2021-03-22T14:47:07.803485Z",
     "iopub.status.busy": "2021-03-22T14:47:07.802612Z",
     "iopub.status.idle": "2021-03-22T14:47:08.559005Z",
     "shell.execute_reply": "2021-03-22T14:47:08.558548Z"
    },
    "papermill": {
     "duration": 0.845977,
     "end_time": "2021-03-22T14:47:08.559131",
     "exception": false,
     "start_time": "2021-03-22T14:47:07.713154",
     "status": "completed"
    },
    "tags": []
   },
   "outputs": [],
   "source": [
    "import datetime\n",
    "lol = lambda x: datetime.datetime.fromtimestamp(x)\n",
    "reviews['Date'] = reviews.Time.apply(lol)"
   ]
  },
  {
   "cell_type": "code",
   "execution_count": 19,
   "metadata": {
    "execution": {
     "iopub.execute_input": "2021-03-22T14:47:08.756734Z",
     "iopub.status.busy": "2021-03-22T14:47:08.755846Z",
     "iopub.status.idle": "2021-03-22T14:47:08.985347Z",
     "shell.execute_reply": "2021-03-22T14:47:08.986476Z"
    },
    "papermill": {
     "duration": 0.352345,
     "end_time": "2021-03-22T14:47:08.986703",
     "exception": false,
     "start_time": "2021-03-22T14:47:08.634358",
     "status": "completed"
    },
    "tags": []
   },
   "outputs": [],
   "source": [
    "reviews['weekDay_Time'] = reviews.Date.dt.weekday\n",
    "reviews['month'] = reviews.Date.dt.month\n",
    "reviews['quarter'] = reviews.Date.dt.quarter"
   ]
  },
  {
   "cell_type": "code",
   "execution_count": 20,
   "metadata": {
    "execution": {
     "iopub.execute_input": "2021-03-22T14:47:09.213618Z",
     "iopub.status.busy": "2021-03-22T14:47:09.212732Z",
     "iopub.status.idle": "2021-03-22T14:47:09.242867Z",
     "shell.execute_reply": "2021-03-22T14:47:09.244055Z"
    },
    "papermill": {
     "duration": 0.143688,
     "end_time": "2021-03-22T14:47:09.244275",
     "exception": false,
     "start_time": "2021-03-22T14:47:09.100587",
     "status": "completed"
    },
    "tags": []
   },
   "outputs": [
    {
     "data": {
      "text/html": [
       "<div>\n",
       "<style scoped>\n",
       "    .dataframe tbody tr th:only-of-type {\n",
       "        vertical-align: middle;\n",
       "    }\n",
       "\n",
       "    .dataframe tbody tr th {\n",
       "        vertical-align: top;\n",
       "    }\n",
       "\n",
       "    .dataframe thead th {\n",
       "        text-align: right;\n",
       "    }\n",
       "</style>\n",
       "<table border=\"1\" class=\"dataframe\">\n",
       "  <thead>\n",
       "    <tr style=\"text-align: right;\">\n",
       "      <th></th>\n",
       "      <th>Id</th>\n",
       "      <th>ProductId</th>\n",
       "      <th>UserId</th>\n",
       "      <th>ProfileName</th>\n",
       "      <th>HelpfulnessNumerator</th>\n",
       "      <th>HelpfulnessDenominator</th>\n",
       "      <th>Score</th>\n",
       "      <th>Time</th>\n",
       "      <th>Summary</th>\n",
       "      <th>Text</th>\n",
       "      <th>Date</th>\n",
       "      <th>weekDay_Time</th>\n",
       "      <th>month</th>\n",
       "      <th>quarter</th>\n",
       "    </tr>\n",
       "  </thead>\n",
       "  <tbody>\n",
       "    <tr>\n",
       "      <th>0</th>\n",
       "      <td>1</td>\n",
       "      <td>B001E4KFG0</td>\n",
       "      <td>A3SGXH7AUHU8GW</td>\n",
       "      <td>delmartian</td>\n",
       "      <td>1</td>\n",
       "      <td>1</td>\n",
       "      <td>5</td>\n",
       "      <td>1303862400</td>\n",
       "      <td>Good Quality Dog Food</td>\n",
       "      <td>I have bought several of the Vitality canned d...</td>\n",
       "      <td>2011-04-27 05:30:00</td>\n",
       "      <td>2</td>\n",
       "      <td>4</td>\n",
       "      <td>2</td>\n",
       "    </tr>\n",
       "    <tr>\n",
       "      <th>1</th>\n",
       "      <td>2</td>\n",
       "      <td>B00813GRG4</td>\n",
       "      <td>A1D87F6ZCVE5NK</td>\n",
       "      <td>dll pa</td>\n",
       "      <td>0</td>\n",
       "      <td>0</td>\n",
       "      <td>1</td>\n",
       "      <td>1346976000</td>\n",
       "      <td>Not as Advertised</td>\n",
       "      <td>Product arrived labeled as Jumbo Salted Peanut...</td>\n",
       "      <td>2012-09-07 05:30:00</td>\n",
       "      <td>4</td>\n",
       "      <td>9</td>\n",
       "      <td>3</td>\n",
       "    </tr>\n",
       "    <tr>\n",
       "      <th>2</th>\n",
       "      <td>3</td>\n",
       "      <td>B000LQOCH0</td>\n",
       "      <td>ABXLMWJIXXAIN</td>\n",
       "      <td>Natalia Corres \"Natalia Corres\"</td>\n",
       "      <td>1</td>\n",
       "      <td>1</td>\n",
       "      <td>4</td>\n",
       "      <td>1219017600</td>\n",
       "      <td>\"Delight\" says it all</td>\n",
       "      <td>This is a confection that has been around a fe...</td>\n",
       "      <td>2008-08-18 05:30:00</td>\n",
       "      <td>0</td>\n",
       "      <td>8</td>\n",
       "      <td>3</td>\n",
       "    </tr>\n",
       "    <tr>\n",
       "      <th>3</th>\n",
       "      <td>4</td>\n",
       "      <td>B000UA0QIQ</td>\n",
       "      <td>A395BORC6FGVXV</td>\n",
       "      <td>Karl</td>\n",
       "      <td>3</td>\n",
       "      <td>3</td>\n",
       "      <td>2</td>\n",
       "      <td>1307923200</td>\n",
       "      <td>Cough Medicine</td>\n",
       "      <td>If you are looking for the secret ingredient i...</td>\n",
       "      <td>2011-06-13 05:30:00</td>\n",
       "      <td>0</td>\n",
       "      <td>6</td>\n",
       "      <td>2</td>\n",
       "    </tr>\n",
       "    <tr>\n",
       "      <th>4</th>\n",
       "      <td>5</td>\n",
       "      <td>B006K2ZZ7K</td>\n",
       "      <td>A1UQRSCLF8GW1T</td>\n",
       "      <td>Michael D. Bigham \"M. Wassir\"</td>\n",
       "      <td>0</td>\n",
       "      <td>0</td>\n",
       "      <td>5</td>\n",
       "      <td>1350777600</td>\n",
       "      <td>Great taffy</td>\n",
       "      <td>Great taffy at a great price.  There was a wid...</td>\n",
       "      <td>2012-10-21 05:30:00</td>\n",
       "      <td>6</td>\n",
       "      <td>10</td>\n",
       "      <td>4</td>\n",
       "    </tr>\n",
       "  </tbody>\n",
       "</table>\n",
       "</div>"
      ],
      "text/plain": [
       "   Id   ProductId          UserId                      ProfileName  \\\n",
       "0   1  B001E4KFG0  A3SGXH7AUHU8GW                       delmartian   \n",
       "1   2  B00813GRG4  A1D87F6ZCVE5NK                           dll pa   \n",
       "2   3  B000LQOCH0   ABXLMWJIXXAIN  Natalia Corres \"Natalia Corres\"   \n",
       "3   4  B000UA0QIQ  A395BORC6FGVXV                             Karl   \n",
       "4   5  B006K2ZZ7K  A1UQRSCLF8GW1T    Michael D. Bigham \"M. Wassir\"   \n",
       "\n",
       "   HelpfulnessNumerator  HelpfulnessDenominator  Score        Time  \\\n",
       "0                     1                       1      5  1303862400   \n",
       "1                     0                       0      1  1346976000   \n",
       "2                     1                       1      4  1219017600   \n",
       "3                     3                       3      2  1307923200   \n",
       "4                     0                       0      5  1350777600   \n",
       "\n",
       "                 Summary                                               Text  \\\n",
       "0  Good Quality Dog Food  I have bought several of the Vitality canned d...   \n",
       "1      Not as Advertised  Product arrived labeled as Jumbo Salted Peanut...   \n",
       "2  \"Delight\" says it all  This is a confection that has been around a fe...   \n",
       "3         Cough Medicine  If you are looking for the secret ingredient i...   \n",
       "4            Great taffy  Great taffy at a great price.  There was a wid...   \n",
       "\n",
       "                 Date  weekDay_Time  month  quarter  \n",
       "0 2011-04-27 05:30:00             2      4        2  \n",
       "1 2012-09-07 05:30:00             4      9        3  \n",
       "2 2008-08-18 05:30:00             0      8        3  \n",
       "3 2011-06-13 05:30:00             0      6        2  \n",
       "4 2012-10-21 05:30:00             6     10        4  "
      ]
     },
     "execution_count": 20,
     "metadata": {},
     "output_type": "execute_result"
    }
   ],
   "source": [
    "reviews.head()"
   ]
  },
  {
   "cell_type": "code",
   "execution_count": 21,
   "metadata": {
    "execution": {
     "iopub.execute_input": "2021-03-22T14:47:09.545095Z",
     "iopub.status.busy": "2021-03-22T14:47:09.544303Z",
     "iopub.status.idle": "2021-03-22T14:47:09.974757Z",
     "shell.execute_reply": "2021-03-22T14:47:09.975817Z"
    },
    "papermill": {
     "duration": 0.602436,
     "end_time": "2021-03-22T14:47:09.976042",
     "exception": false,
     "start_time": "2021-03-22T14:47:09.373606",
     "status": "completed"
    },
    "tags": []
   },
   "outputs": [
    {
     "data": {
      "text/plain": [
       "<AxesSubplot:xlabel='weekDay_Time', ylabel='count'>"
      ]
     },
     "execution_count": 21,
     "metadata": {},
     "output_type": "execute_result"
    },
    {
     "data": {
      "image/png": "[encoded data removed]",
      "text/plain": [
       "<Figure size 432x288 with 1 Axes>"
      ]
     },
     "metadata": {
      "needs_background": "light"
     },
     "output_type": "display_data"
    }
   ],
   "source": [
    "sns.countplot(data=reviews, x='weekDay_Time')"
   ]
  },
  {
   "cell_type": "code",
   "execution_count": 22,
   "metadata": {
    "execution": {
     "iopub.execute_input": "2021-03-22T14:47:10.127667Z",
     "iopub.status.busy": "2021-03-22T14:47:10.126704Z",
     "iopub.status.idle": "2021-03-22T14:47:10.321065Z",
     "shell.execute_reply": "2021-03-22T14:47:10.320609Z"
    },
    "papermill": {
     "duration": 0.260265,
     "end_time": "2021-03-22T14:47:10.321182",
     "exception": false,
     "start_time": "2021-03-22T14:47:10.060917",
     "status": "completed"
    },
    "tags": []
   },
   "outputs": [
    {
     "data": {
      "text/plain": [
       "<AxesSubplot:xlabel='month', ylabel='count'>"
      ]
     },
     "execution_count": 22,
     "metadata": {},
     "output_type": "execute_result"
    },
    {
     "data": {
      "image/png": "[encoded data removed]",
      "text/plain": [
       "<Figure size 432x288 with 1 Axes>"
      ]
     },
     "metadata": {
      "needs_background": "light"
     },
     "output_type": "display_data"
    }
   ],
   "source": [
    "sns.countplot(data=reviews, x='month')"
   ]
  },
  {
   "cell_type": "code",
   "execution_count": 23,
   "metadata": {
    "execution": {
     "iopub.execute_input": "2021-03-22T14:47:10.448547Z",
     "iopub.status.busy": "2021-03-22T14:47:10.447754Z",
     "iopub.status.idle": "2021-03-22T14:47:10.592065Z",
     "shell.execute_reply": "2021-03-22T14:47:10.591636Z"
    },
    "papermill": {
     "duration": 0.209935,
     "end_time": "2021-03-22T14:47:10.592183",
     "exception": false,
     "start_time": "2021-03-22T14:47:10.382248",
     "status": "completed"
    },
    "tags": []
   },
   "outputs": [
    {
     "data": {
      "text/plain": [
       "<AxesSubplot:xlabel='quarter', ylabel='count'>"
      ]
     },
     "execution_count": 23,
     "metadata": {},
     "output_type": "execute_result"
    },
    {
     "data": {
      "image/png": "[encoded data removed]",
      "text/plain": [
       "<Figure size 432x288 with 1 Axes>"
      ]
     },
     "metadata": {
      "needs_background": "light"
     },
     "output_type": "display_data"
    }
   ],
   "source": [
    "sns.countplot(data=reviews, x='quarter')"
   ]
  },
  {
   "cell_type": "code",
   "execution_count": 24,
   "metadata": {
    "execution": {
     "iopub.execute_input": "2021-03-22T14:47:10.771307Z",
     "iopub.status.busy": "2021-03-22T14:47:10.770431Z",
     "iopub.status.idle": "2021-03-22T14:47:10.943274Z",
     "shell.execute_reply": "2021-03-22T14:47:10.942776Z"
    },
    "papermill": {
     "duration": 0.289147,
     "end_time": "2021-03-22T14:47:10.943426",
     "exception": false,
     "start_time": "2021-03-22T14:47:10.654279",
     "status": "completed"
    },
    "tags": []
   },
   "outputs": [],
   "source": [
    "reviews = reviews[~reviews.Summary.isnull()]\n",
    "reviews=reviews.reset_index(drop=True)"
   ]
  },
  {
   "cell_type": "markdown",
   "metadata": {
    "papermill": {
     "duration": 0.06246,
     "end_time": "2021-03-22T14:47:11.068729",
     "exception": false,
     "start_time": "2021-03-22T14:47:11.006269",
     "status": "completed"
    },
    "tags": []
   },
   "source": [
    "## Lets do Some EDA on the Text Data"
   ]
  },
  {
   "cell_type": "markdown",
   "metadata": {
    "papermill": {
     "duration": 0.062193,
     "end_time": "2021-03-22T14:47:11.193975",
     "exception": false,
     "start_time": "2021-03-22T14:47:11.131782",
     "status": "completed"
    },
    "tags": []
   },
   "source": [
    "### Lets preprocess convert everything to Lower Case"
   ]
  },
  {
   "cell_type": "code",
   "execution_count": 25,
   "metadata": {
    "execution": {
     "iopub.execute_input": "2021-03-22T14:47:11.396635Z",
     "iopub.status.busy": "2021-03-22T14:47:11.395857Z",
     "iopub.status.idle": "2021-03-22T14:47:12.323239Z",
     "shell.execute_reply": "2021-03-22T14:47:12.322654Z"
    },
    "papermill": {
     "duration": 1.067023,
     "end_time": "2021-03-22T14:47:12.323362",
     "exception": false,
     "start_time": "2021-03-22T14:47:11.256339",
     "status": "completed"
    },
    "tags": []
   },
   "outputs": [],
   "source": [
    "reviews.Text = reviews.Text.str.lower()\n",
    "reviews.Summary = reviews.Summary.str.lower()"
   ]
  },
  {
   "cell_type": "code",
   "execution_count": 26,
   "metadata": {
    "execution": {
     "iopub.execute_input": "2021-03-22T14:47:12.464205Z",
     "iopub.status.busy": "2021-03-22T14:47:12.463029Z",
     "iopub.status.idle": "2021-03-22T14:47:12.467115Z",
     "shell.execute_reply": "2021-03-22T14:47:12.467540Z"
    },
    "papermill": {
     "duration": 0.081201,
     "end_time": "2021-03-22T14:47:12.467671",
     "exception": false,
     "start_time": "2021-03-22T14:47:12.386470",
     "status": "completed"
    },
    "tags": []
   },
   "outputs": [
    {
     "data": {
      "text/html": [
       "<div>\n",
       "<style scoped>\n",
       "    .dataframe tbody tr th:only-of-type {\n",
       "        vertical-align: middle;\n",
       "    }\n",
       "\n",
       "    .dataframe tbody tr th {\n",
       "        vertical-align: top;\n",
       "    }\n",
       "\n",
       "    .dataframe thead th {\n",
       "        text-align: right;\n",
       "    }\n",
       "</style>\n",
       "<table border=\"1\" class=\"dataframe\">\n",
       "  <thead>\n",
       "    <tr style=\"text-align: right;\">\n",
       "      <th></th>\n",
       "      <th>Id</th>\n",
       "      <th>ProductId</th>\n",
       "      <th>UserId</th>\n",
       "      <th>ProfileName</th>\n",
       "      <th>HelpfulnessNumerator</th>\n",
       "      <th>HelpfulnessDenominator</th>\n",
       "      <th>Score</th>\n",
       "      <th>Time</th>\n",
       "      <th>Summary</th>\n",
       "      <th>Text</th>\n",
       "      <th>Date</th>\n",
       "      <th>weekDay_Time</th>\n",
       "      <th>month</th>\n",
       "      <th>quarter</th>\n",
       "    </tr>\n",
       "  </thead>\n",
       "  <tbody>\n",
       "    <tr>\n",
       "      <th>0</th>\n",
       "      <td>1</td>\n",
       "      <td>B001E4KFG0</td>\n",
       "      <td>A3SGXH7AUHU8GW</td>\n",
       "      <td>delmartian</td>\n",
       "      <td>1</td>\n",
       "      <td>1</td>\n",
       "      <td>5</td>\n",
       "      <td>1303862400</td>\n",
       "      <td>good quality dog food</td>\n",
       "      <td>i have bought several of the vitality canned d...</td>\n",
       "      <td>2011-04-27 05:30:00</td>\n",
       "      <td>2</td>\n",
       "      <td>4</td>\n",
       "      <td>2</td>\n",
       "    </tr>\n",
       "    <tr>\n",
       "      <th>1</th>\n",
       "      <td>2</td>\n",
       "      <td>B00813GRG4</td>\n",
       "      <td>A1D87F6ZCVE5NK</td>\n",
       "      <td>dll pa</td>\n",
       "      <td>0</td>\n",
       "      <td>0</td>\n",
       "      <td>1</td>\n",
       "      <td>1346976000</td>\n",
       "      <td>not as advertised</td>\n",
       "      <td>product arrived labeled as jumbo salted peanut...</td>\n",
       "      <td>2012-09-07 05:30:00</td>\n",
       "      <td>4</td>\n",
       "      <td>9</td>\n",
       "      <td>3</td>\n",
       "    </tr>\n",
       "    <tr>\n",
       "      <th>2</th>\n",
       "      <td>3</td>\n",
       "      <td>B000LQOCH0</td>\n",
       "      <td>ABXLMWJIXXAIN</td>\n",
       "      <td>Natalia Corres \"Natalia Corres\"</td>\n",
       "      <td>1</td>\n",
       "      <td>1</td>\n",
       "      <td>4</td>\n",
       "      <td>1219017600</td>\n",
       "      <td>\"delight\" says it all</td>\n",
       "      <td>this is a confection that has been around a fe...</td>\n",
       "      <td>2008-08-18 05:30:00</td>\n",
       "      <td>0</td>\n",
       "      <td>8</td>\n",
       "      <td>3</td>\n",
       "    </tr>\n",
       "    <tr>\n",
       "      <th>3</th>\n",
       "      <td>4</td>\n",
       "      <td>B000UA0QIQ</td>\n",
       "      <td>A395BORC6FGVXV</td>\n",
       "      <td>Karl</td>\n",
       "      <td>3</td>\n",
       "      <td>3</td>\n",
       "      <td>2</td>\n",
       "      <td>1307923200</td>\n",
       "      <td>cough medicine</td>\n",
       "      <td>if you are looking for the secret ingredient i...</td>\n",
       "      <td>2011-06-13 05:30:00</td>\n",
       "      <td>0</td>\n",
       "      <td>6</td>\n",
       "      <td>2</td>\n",
       "    </tr>\n",
       "    <tr>\n",
       "      <th>4</th>\n",
       "      <td>5</td>\n",
       "      <td>B006K2ZZ7K</td>\n",
       "      <td>A1UQRSCLF8GW1T</td>\n",
       "      <td>Michael D. Bigham \"M. Wassir\"</td>\n",
       "      <td>0</td>\n",
       "      <td>0</td>\n",
       "      <td>5</td>\n",
       "      <td>1350777600</td>\n",
       "      <td>great taffy</td>\n",
       "      <td>great taffy at a great price.  there was a wid...</td>\n",
       "      <td>2012-10-21 05:30:00</td>\n",
       "      <td>6</td>\n",
       "      <td>10</td>\n",
       "      <td>4</td>\n",
       "    </tr>\n",
       "  </tbody>\n",
       "</table>\n",
       "</div>"
      ],
      "text/plain": [
       "   Id   ProductId          UserId                      ProfileName  \\\n",
       "0   1  B001E4KFG0  A3SGXH7AUHU8GW                       delmartian   \n",
       "1   2  B00813GRG4  A1D87F6ZCVE5NK                           dll pa   \n",
       "2   3  B000LQOCH0   ABXLMWJIXXAIN  Natalia Corres \"Natalia Corres\"   \n",
       "3   4  B000UA0QIQ  A395BORC6FGVXV                             Karl   \n",
       "4   5  B006K2ZZ7K  A1UQRSCLF8GW1T    Michael D. Bigham \"M. Wassir\"   \n",
       "\n",
       "   HelpfulnessNumerator  HelpfulnessDenominator  Score        Time  \\\n",
       "0                     1                       1      5  1303862400   \n",
       "1                     0                       0      1  1346976000   \n",
       "2                     1                       1      4  1219017600   \n",
       "3                     3                       3      2  1307923200   \n",
       "4                     0                       0      5  1350777600   \n",
       "\n",
       "                 Summary                                               Text  \\\n",
       "0  good quality dog food  i have bought several of the vitality canned d...   \n",
       "1      not as advertised  product arrived labeled as jumbo salted peanut...   \n",
       "2  \"delight\" says it all  this is a confection that has been around a fe...   \n",
       "3         cough medicine  if you are looking for the secret ingredient i...   \n",
       "4            great taffy  great taffy at a great price.  there was a wid...   \n",
       "\n",
       "                 Date  weekDay_Time  month  quarter  \n",
       "0 2011-04-27 05:30:00             2      4        2  \n",
       "1 2012-09-07 05:30:00             4      9        3  \n",
       "2 2008-08-18 05:30:00             0      8        3  \n",
       "3 2011-06-13 05:30:00             0      6        2  \n",
       "4 2012-10-21 05:30:00             6     10        4  "
      ]
     },
     "execution_count": 26,
     "metadata": {},
     "output_type": "execute_result"
    }
   ],
   "source": [
    "reviews.head()"
   ]
  },
  {
   "cell_type": "code",
   "execution_count": 27,
   "metadata": {
    "execution": {
     "iopub.execute_input": "2021-03-22T14:47:12.596980Z",
     "iopub.status.busy": "2021-03-22T14:47:12.596468Z",
     "iopub.status.idle": "2021-03-22T14:47:12.599697Z",
     "shell.execute_reply": "2021-03-22T14:47:12.600183Z"
    },
    "papermill": {
     "duration": 0.069855,
     "end_time": "2021-03-22T14:47:12.600302",
     "exception": false,
     "start_time": "2021-03-22T14:47:12.530447",
     "status": "completed"
    },
    "tags": []
   },
   "outputs": [],
   "source": [
    "Text_data = reviews.Text.values\n",
    "Summary = reviews.Summary.values"
   ]
  },
  {
   "cell_type": "markdown",
   "metadata": {
    "papermill": {
     "duration": 0.063068,
     "end_time": "2021-03-22T14:47:12.726546",
     "exception": false,
     "start_time": "2021-03-22T14:47:12.663478",
     "status": "completed"
    },
    "tags": []
   },
   "source": [
    "## do we have similar Summariaes?"
   ]
  },
  {
   "cell_type": "code",
   "execution_count": 28,
   "metadata": {
    "execution": {
     "iopub.execute_input": "2021-03-22T14:47:13.094072Z",
     "iopub.status.busy": "2021-03-22T14:47:13.092953Z",
     "iopub.status.idle": "2021-03-22T14:47:13.139104Z",
     "shell.execute_reply": "2021-03-22T14:47:13.139538Z"
    },
    "papermill": {
     "duration": 0.348606,
     "end_time": "2021-03-22T14:47:13.139690",
     "exception": false,
     "start_time": "2021-03-22T14:47:12.791084",
     "status": "completed"
    },
    "tags": []
   },
   "outputs": [
    {
     "data": {
      "text/html": [
       "<div>\n",
       "<style scoped>\n",
       "    .dataframe tbody tr th:only-of-type {\n",
       "        vertical-align: middle;\n",
       "    }\n",
       "\n",
       "    .dataframe tbody tr th {\n",
       "        vertical-align: top;\n",
       "    }\n",
       "\n",
       "    .dataframe thead th {\n",
       "        text-align: right;\n",
       "    }\n",
       "</style>\n",
       "<table border=\"1\" class=\"dataframe\">\n",
       "  <thead>\n",
       "    <tr style=\"text-align: right;\">\n",
       "      <th></th>\n",
       "      <th>Id</th>\n",
       "      <th>ProductId</th>\n",
       "      <th>UserId</th>\n",
       "      <th>ProfileName</th>\n",
       "      <th>HelpfulnessNumerator</th>\n",
       "      <th>HelpfulnessDenominator</th>\n",
       "      <th>Score</th>\n",
       "      <th>Time</th>\n",
       "      <th>Summary</th>\n",
       "      <th>Text</th>\n",
       "      <th>Date</th>\n",
       "      <th>weekDay_Time</th>\n",
       "      <th>month</th>\n",
       "      <th>quarter</th>\n",
       "    </tr>\n",
       "  </thead>\n",
       "  <tbody>\n",
       "    <tr>\n",
       "      <th>29</th>\n",
       "      <td>30</td>\n",
       "      <td>B0001PB9FY</td>\n",
       "      <td>A3HDKO7OW0QNK4</td>\n",
       "      <td>Canadian Fan</td>\n",
       "      <td>1</td>\n",
       "      <td>1</td>\n",
       "      <td>5</td>\n",
       "      <td>1107820800</td>\n",
       "      <td>the best hot sauce in the world</td>\n",
       "      <td>i don't know if it's the cactus or the tequila...</td>\n",
       "      <td>2005-02-08 05:30:00</td>\n",
       "      <td>1</td>\n",
       "      <td>2</td>\n",
       "      <td>1</td>\n",
       "    </tr>\n",
       "    <tr>\n",
       "      <th>574</th>\n",
       "      <td>575</td>\n",
       "      <td>B000G6RYNE</td>\n",
       "      <td>A3PJZ8TU8FDQ1K</td>\n",
       "      <td>Jared Castle</td>\n",
       "      <td>2</td>\n",
       "      <td>2</td>\n",
       "      <td>5</td>\n",
       "      <td>1231718400</td>\n",
       "      <td>one bite and you'll become a \"chippoisseur\"</td>\n",
       "      <td>i'm addicted to salty and tangy flavors, so wh...</td>\n",
       "      <td>2009-01-12 05:30:00</td>\n",
       "      <td>0</td>\n",
       "      <td>1</td>\n",
       "      <td>1</td>\n",
       "    </tr>\n",
       "    <tr>\n",
       "      <th>603</th>\n",
       "      <td>604</td>\n",
       "      <td>B000G6RYNE</td>\n",
       "      <td>A3PJZ8TU8FDQ1K</td>\n",
       "      <td>Jared Castle</td>\n",
       "      <td>1</td>\n",
       "      <td>1</td>\n",
       "      <td>5</td>\n",
       "      <td>1229385600</td>\n",
       "      <td>one bite and you'll become a \"chippoisseur\"</td>\n",
       "      <td>i'm addicted to salty and tangy flavors, so wh...</td>\n",
       "      <td>2008-12-16 05:30:00</td>\n",
       "      <td>1</td>\n",
       "      <td>12</td>\n",
       "      <td>4</td>\n",
       "    </tr>\n",
       "    <tr>\n",
       "      <th>1973</th>\n",
       "      <td>1974</td>\n",
       "      <td>B0017165OG</td>\n",
       "      <td>A2EPNS38TTLZYN</td>\n",
       "      <td>tedebear</td>\n",
       "      <td>0</td>\n",
       "      <td>0</td>\n",
       "      <td>3</td>\n",
       "      <td>1312675200</td>\n",
       "      <td>pok chops</td>\n",
       "      <td>the pork chops from omaha steaks were very tas...</td>\n",
       "      <td>2011-08-07 05:30:00</td>\n",
       "      <td>6</td>\n",
       "      <td>8</td>\n",
       "      <td>3</td>\n",
       "    </tr>\n",
       "    <tr>\n",
       "      <th>2309</th>\n",
       "      <td>2310</td>\n",
       "      <td>B0001VWE0M</td>\n",
       "      <td>AQM74O8Z4FMS0</td>\n",
       "      <td>Sunshine</td>\n",
       "      <td>0</td>\n",
       "      <td>0</td>\n",
       "      <td>2</td>\n",
       "      <td>1127606400</td>\n",
       "      <td>below standard</td>\n",
       "      <td>too much of the white pith on this orange peel...</td>\n",
       "      <td>2005-09-25 05:30:00</td>\n",
       "      <td>6</td>\n",
       "      <td>9</td>\n",
       "      <td>3</td>\n",
       "    </tr>\n",
       "    <tr>\n",
       "      <th>...</th>\n",
       "      <td>...</td>\n",
       "      <td>...</td>\n",
       "      <td>...</td>\n",
       "      <td>...</td>\n",
       "      <td>...</td>\n",
       "      <td>...</td>\n",
       "      <td>...</td>\n",
       "      <td>...</td>\n",
       "      <td>...</td>\n",
       "      <td>...</td>\n",
       "      <td>...</td>\n",
       "      <td>...</td>\n",
       "      <td>...</td>\n",
       "      <td>...</td>\n",
       "    </tr>\n",
       "    <tr>\n",
       "      <th>568382</th>\n",
       "      <td>568410</td>\n",
       "      <td>B0018CLWM4</td>\n",
       "      <td>A2PE0AGWV6OPL7</td>\n",
       "      <td>Dark Water Mermaid</td>\n",
       "      <td>3</td>\n",
       "      <td>3</td>\n",
       "      <td>5</td>\n",
       "      <td>1309651200</td>\n",
       "      <td>quality &amp; affordable food</td>\n",
       "      <td>i was very pleased with the ingredient quality...</td>\n",
       "      <td>2011-07-03 05:30:00</td>\n",
       "      <td>6</td>\n",
       "      <td>7</td>\n",
       "      <td>3</td>\n",
       "    </tr>\n",
       "    <tr>\n",
       "      <th>568383</th>\n",
       "      <td>568411</td>\n",
       "      <td>B0018CLWM4</td>\n",
       "      <td>A88HLWDCU57WG</td>\n",
       "      <td>R28</td>\n",
       "      <td>2</td>\n",
       "      <td>2</td>\n",
       "      <td>5</td>\n",
       "      <td>1332979200</td>\n",
       "      <td>litter box</td>\n",
       "      <td>my main reason for the five star review has to...</td>\n",
       "      <td>2012-03-29 05:30:00</td>\n",
       "      <td>3</td>\n",
       "      <td>3</td>\n",
       "      <td>1</td>\n",
       "    </tr>\n",
       "    <tr>\n",
       "      <th>568384</th>\n",
       "      <td>568412</td>\n",
       "      <td>B0018CLWM4</td>\n",
       "      <td>AUX1HSY8FX55S</td>\n",
       "      <td>DAW</td>\n",
       "      <td>1</td>\n",
       "      <td>1</td>\n",
       "      <td>5</td>\n",
       "      <td>1319500800</td>\n",
       "      <td>happy camper</td>\n",
       "      <td>i bought this to try on two registered maine c...</td>\n",
       "      <td>2011-10-25 05:30:00</td>\n",
       "      <td>1</td>\n",
       "      <td>10</td>\n",
       "      <td>4</td>\n",
       "    </tr>\n",
       "    <tr>\n",
       "      <th>568385</th>\n",
       "      <td>568413</td>\n",
       "      <td>B0018CLWM4</td>\n",
       "      <td>AVZ2OZ479Q9E8</td>\n",
       "      <td>Ai Ling Chow</td>\n",
       "      <td>0</td>\n",
       "      <td>0</td>\n",
       "      <td>5</td>\n",
       "      <td>1336435200</td>\n",
       "      <td>two siberians like it!</td>\n",
       "      <td>when we brought home two 3-month-old purebred ...</td>\n",
       "      <td>2012-05-08 05:30:00</td>\n",
       "      <td>1</td>\n",
       "      <td>5</td>\n",
       "      <td>2</td>\n",
       "    </tr>\n",
       "    <tr>\n",
       "      <th>568386</th>\n",
       "      <td>568414</td>\n",
       "      <td>B0018CLWM4</td>\n",
       "      <td>AI3Y26HLPYW4L</td>\n",
       "      <td>kimosabe</td>\n",
       "      <td>1</td>\n",
       "      <td>2</td>\n",
       "      <td>2</td>\n",
       "      <td>1330041600</td>\n",
       "      <td>premium edge cat food</td>\n",
       "      <td>my cats don't like it. what else can i say to ...</td>\n",
       "      <td>2012-02-24 05:30:00</td>\n",
       "      <td>4</td>\n",
       "      <td>2</td>\n",
       "      <td>1</td>\n",
       "    </tr>\n",
       "  </tbody>\n",
       "</table>\n",
       "<p>174862 rows × 14 columns</p>\n",
       "</div>"
      ],
      "text/plain": [
       "            Id   ProductId          UserId         ProfileName  \\\n",
       "29          30  B0001PB9FY  A3HDKO7OW0QNK4        Canadian Fan   \n",
       "574        575  B000G6RYNE  A3PJZ8TU8FDQ1K        Jared Castle   \n",
       "603        604  B000G6RYNE  A3PJZ8TU8FDQ1K        Jared Castle   \n",
       "1973      1974  B0017165OG  A2EPNS38TTLZYN            tedebear   \n",
       "2309      2310  B0001VWE0M   AQM74O8Z4FMS0            Sunshine   \n",
       "...        ...         ...             ...                 ...   \n",
       "568382  568410  B0018CLWM4  A2PE0AGWV6OPL7  Dark Water Mermaid   \n",
       "568383  568411  B0018CLWM4   A88HLWDCU57WG                 R28   \n",
       "568384  568412  B0018CLWM4   AUX1HSY8FX55S                 DAW   \n",
       "568385  568413  B0018CLWM4   AVZ2OZ479Q9E8        Ai Ling Chow   \n",
       "568386  568414  B0018CLWM4   AI3Y26HLPYW4L            kimosabe   \n",
       "\n",
       "        HelpfulnessNumerator  HelpfulnessDenominator  Score        Time  \\\n",
       "29                         1                       1      5  1107820800   \n",
       "574                        2                       2      5  1231718400   \n",
       "603                        1                       1      5  1229385600   \n",
       "1973                       0                       0      3  1312675200   \n",
       "2309                       0                       0      2  1127606400   \n",
       "...                      ...                     ...    ...         ...   \n",
       "568382                     3                       3      5  1309651200   \n",
       "568383                     2                       2      5  1332979200   \n",
       "568384                     1                       1      5  1319500800   \n",
       "568385                     0                       0      5  1336435200   \n",
       "568386                     1                       2      2  1330041600   \n",
       "\n",
       "                                            Summary  \\\n",
       "29                  the best hot sauce in the world   \n",
       "574     one bite and you'll become a \"chippoisseur\"   \n",
       "603     one bite and you'll become a \"chippoisseur\"   \n",
       "1973                                      pok chops   \n",
       "2309                                 below standard   \n",
       "...                                             ...   \n",
       "568382                    quality & affordable food   \n",
       "568383                                   litter box   \n",
       "568384                                 happy camper   \n",
       "568385                       two siberians like it!   \n",
       "568386                        premium edge cat food   \n",
       "\n",
       "                                                     Text                Date  \\\n",
       "29      i don't know if it's the cactus or the tequila... 2005-02-08 05:30:00   \n",
       "574     i'm addicted to salty and tangy flavors, so wh... 2009-01-12 05:30:00   \n",
       "603     i'm addicted to salty and tangy flavors, so wh... 2008-12-16 05:30:00   \n",
       "1973    the pork chops from omaha steaks were very tas... 2011-08-07 05:30:00   \n",
       "2309    too much of the white pith on this orange peel... 2005-09-25 05:30:00   \n",
       "...                                                   ...                 ...   \n",
       "568382  i was very pleased with the ingredient quality... 2011-07-03 05:30:00   \n",
       "568383  my main reason for the five star review has to... 2012-03-29 05:30:00   \n",
       "568384  i bought this to try on two registered maine c... 2011-10-25 05:30:00   \n",
       "568385  when we brought home two 3-month-old purebred ... 2012-05-08 05:30:00   \n",
       "568386  my cats don't like it. what else can i say to ... 2012-02-24 05:30:00   \n",
       "\n",
       "        weekDay_Time  month  quarter  \n",
       "29                 1      2        1  \n",
       "574                0      1        1  \n",
       "603                1     12        4  \n",
       "1973               6      8        3  \n",
       "2309               6      9        3  \n",
       "...              ...    ...      ...  \n",
       "568382             6      7        3  \n",
       "568383             3      3        1  \n",
       "568384             1     10        4  \n",
       "568385             1      5        2  \n",
       "568386             4      2        1  \n",
       "\n",
       "[174862 rows x 14 columns]"
      ]
     },
     "execution_count": 28,
     "metadata": {},
     "output_type": "execute_result"
    }
   ],
   "source": [
    "reviews[reviews.Text.duplicated()]"
   ]
  },
  {
   "cell_type": "code",
   "execution_count": 29,
   "metadata": {
    "execution": {
     "iopub.execute_input": "2021-03-22T14:47:13.374670Z",
     "iopub.status.busy": "2021-03-22T14:47:13.367123Z",
     "iopub.status.idle": "2021-03-22T14:47:13.377588Z",
     "shell.execute_reply": "2021-03-22T14:47:13.378174Z"
    },
    "papermill": {
     "duration": 0.173626,
     "end_time": "2021-03-22T14:47:13.378363",
     "exception": false,
     "start_time": "2021-03-22T14:47:13.204737",
     "status": "completed"
    },
    "tags": []
   },
   "outputs": [
    {
     "name": "stdout",
     "output_type": "stream",
     "text": [
      "568427\n",
      "275162\n"
     ]
    }
   ],
   "source": [
    "\n",
    "Total_len = len(Summary)\n",
    "Total_distinct_Summary = len(set(Summary))\n",
    "print(Total_len)\n",
    "print(Total_distinct_Summary)"
   ]
  },
  {
   "cell_type": "markdown",
   "metadata": {
    "papermill": {
     "duration": 0.064303,
     "end_time": "2021-03-22T14:47:13.509232",
     "exception": false,
     "start_time": "2021-03-22T14:47:13.444929",
     "status": "completed"
    },
    "tags": []
   },
   "source": [
    "## do we have similar Text Data?"
   ]
  },
  {
   "cell_type": "code",
   "execution_count": 30,
   "metadata": {
    "execution": {
     "iopub.execute_input": "2021-03-22T14:47:13.767715Z",
     "iopub.status.busy": "2021-03-22T14:47:13.753427Z",
     "iopub.status.idle": "2021-03-22T14:47:13.771721Z",
     "shell.execute_reply": "2021-03-22T14:47:13.771045Z"
    },
    "papermill": {
     "duration": 0.198671,
     "end_time": "2021-03-22T14:47:13.771883",
     "exception": false,
     "start_time": "2021-03-22T14:47:13.573212",
     "status": "completed"
    },
    "tags": []
   },
   "outputs": [
    {
     "name": "stdout",
     "output_type": "stream",
     "text": [
      "568427\n",
      "393565\n"
     ]
    }
   ],
   "source": [
    "\n",
    "Total_len = len(Text_data)\n",
    "Total_distinct_Text_data = len(set(Text_data))\n",
    "print(Total_len)\n",
    "print(Total_distinct_Text_data)"
   ]
  },
  {
   "cell_type": "markdown",
   "metadata": {
    "papermill": {
     "duration": 0.064786,
     "end_time": "2021-03-22T14:47:13.903803",
     "exception": false,
     "start_time": "2021-03-22T14:47:13.839017",
     "status": "completed"
    },
    "tags": []
   },
   "source": [
    "## ok lets drop the similar Text Data"
   ]
  },
  {
   "cell_type": "code",
   "execution_count": 31,
   "metadata": {
    "execution": {
     "iopub.execute_input": "2021-03-22T14:47:14.072720Z",
     "iopub.status.busy": "2021-03-22T14:47:14.072008Z",
     "iopub.status.idle": "2021-03-22T14:47:14.726293Z",
     "shell.execute_reply": "2021-03-22T14:47:14.725832Z"
    },
    "papermill": {
     "duration": 0.757604,
     "end_time": "2021-03-22T14:47:14.726438",
     "exception": false,
     "start_time": "2021-03-22T14:47:13.968834",
     "status": "completed"
    },
    "tags": []
   },
   "outputs": [],
   "source": [
    "reviews = reviews.drop_duplicates('Text')\n",
    "reviews = reviews.reset_index(drop=True)"
   ]
  },
  {
   "cell_type": "code",
   "execution_count": 32,
   "metadata": {
    "execution": {
     "iopub.execute_input": "2021-03-22T14:47:14.867567Z",
     "iopub.status.busy": "2021-03-22T14:47:14.865913Z",
     "iopub.status.idle": "2021-03-22T14:47:14.868199Z",
     "shell.execute_reply": "2021-03-22T14:47:14.868621Z"
    },
    "papermill": {
     "duration": 0.074586,
     "end_time": "2021-03-22T14:47:14.868766",
     "exception": false,
     "start_time": "2021-03-22T14:47:14.794180",
     "status": "completed"
    },
    "tags": []
   },
   "outputs": [],
   "source": [
    "Text_data = reviews.Text.values\n",
    "Summary = reviews.Summary.values"
   ]
  },
  {
   "cell_type": "code",
   "execution_count": 33,
   "metadata": {},
   "outputs": [
    {
     "name": "stdout",
     "output_type": "stream",
     "text": [
      "Requirement already satisfied: wordcloud in c:\\users\\t0244374\\anaconda3\\lib\\site-packages (1.8.1)\n",
      "Requirement already satisfied: matplotlib in c:\\users\\t0244374\\anaconda3\\lib\\site-packages (from wordcloud) (3.3.2)\n",
      "Requirement already satisfied: pillow in c:\\users\\t0244374\\anaconda3\\lib\\site-packages (from wordcloud) (8.0.1)\n",
      "Requirement already satisfied: numpy>=1.6.1 in c:\\users\\t0244374\\anaconda3\\lib\\site-packages (from wordcloud) (1.19.2)\n",
      "Requirement already satisfied: python-dateutil>=2.1 in c:\\users\\t0244374\\anaconda3\\lib\\site-packages (from matplotlib->wordcloud) (2.8.1)\n",
      "Requirement already satisfied: cycler>=0.10 in c:\\users\\t0244374\\anaconda3\\lib\\site-packages (from matplotlib->wordcloud) (0.10.0)\n",
      "Requirement already satisfied: kiwisolver>=1.0.1 in c:\\users\\t0244374\\anaconda3\\lib\\site-packages (from matplotlib->wordcloud) (1.3.0)\n",
      "Requirement already satisfied: certifi>=2020.06.20 in c:\\users\\t0244374\\anaconda3\\lib\\site-packages (from matplotlib->wordcloud) (2020.6.20)\n",
      "Requirement already satisfied: pyparsing!=2.0.4,!=2.1.2,!=2.1.6,>=2.0.3 in c:\\users\\t0244374\\anaconda3\\lib\\site-packages (from matplotlib->wordcloud) (2.4.7)\n",
      "Requirement already satisfied: six>=1.5 in c:\\users\\t0244374\\anaconda3\\lib\\site-packages (from python-dateutil>=2.1->matplotlib->wordcloud) (1.15.0)\n",
      "Note: you may need to restart the kernel to use updated packages.\n"
     ]
    }
   ],
   "source": [
    "pip install wordcloud"
   ]
  },
  {
   "cell_type": "code",
   "execution_count": 34,
   "metadata": {
    "execution": {
     "iopub.execute_input": "2021-03-22T14:47:15.002417Z",
     "iopub.status.busy": "2021-03-22T14:47:15.001906Z",
     "iopub.status.idle": "2021-03-22T14:47:22.443722Z",
     "shell.execute_reply": "2021-03-22T14:47:22.444144Z"
    },
    "papermill": {
     "duration": 7.511038,
     "end_time": "2021-03-22T14:47:22.444296",
     "exception": false,
     "start_time": "2021-03-22T14:47:14.933258",
     "status": "completed"
    },
    "tags": []
   },
   "outputs": [
    {
     "data": {
      "text/plain": [
       "<matplotlib.image.AxesImage at 0x1285a4e0bb0>"
      ]
     },
     "execution_count": 34,
     "metadata": {},
     "output_type": "execute_result"
    },
    {
     "data": {
      "image/png": "[encoded data removed]",
      "text/plain": [
       "<Figure size 432x288 with 1 Axes>"
      ]
     },
     "metadata": {
      "needs_background": "light"
     },
     "output_type": "display_data"
    }
   ],
   "source": [
    "from wordcloud import WordCloud, STOPWORDS\n",
    "summaryWordCloud = ' '.join(Summary).lower()\n",
    "wordcloud2 = WordCloud().generate(summaryWordCloud)\n",
    "plt.imshow(wordcloud2)"
   ]
  },
  {
   "cell_type": "code",
   "execution_count": 35,
   "metadata": {
    "execution": {
     "iopub.execute_input": "2021-03-22T14:47:22.584245Z",
     "iopub.status.busy": "2021-03-22T14:47:22.583568Z",
     "iopub.status.idle": "2021-03-22T14:47:22.586659Z",
     "shell.execute_reply": "2021-03-22T14:47:22.586223Z"
    },
    "papermill": {
     "duration": 0.074169,
     "end_time": "2021-03-22T14:47:22.586770",
     "exception": false,
     "start_time": "2021-03-22T14:47:22.512601",
     "status": "completed"
    },
    "tags": []
   },
   "outputs": [],
   "source": [
    "# TextWordCloud = ' '.join(Text_data).lower()\n",
    "# wordcloud2 = WordCloud().generate(TextWordCloud)\n",
    "# plt.imshow(wordcloud2)"
   ]
  },
  {
   "cell_type": "markdown",
   "metadata": {
    "papermill": {
     "duration": 0.06727,
     "end_time": "2021-03-22T14:47:22.721756",
     "exception": false,
     "start_time": "2021-03-22T14:47:22.654486",
     "status": "completed"
    },
    "tags": []
   },
   "source": [
    "## Word Cloud for our Data. Looks COOL"
   ]
  },
  {
   "cell_type": "markdown",
   "metadata": {
    "papermill": {
     "duration": 0.067936,
     "end_time": "2021-03-22T14:47:22.857350",
     "exception": false,
     "start_time": "2021-03-22T14:47:22.789414",
     "status": "completed"
    },
    "tags": []
   },
   "source": [
    "## Remove HTML Tags"
   ]
  },
  {
   "cell_type": "code",
   "execution_count": 36,
   "metadata": {
    "execution": {
     "iopub.execute_input": "2021-03-22T14:47:23.000584Z",
     "iopub.status.busy": "2021-03-22T14:47:22.999756Z",
     "iopub.status.idle": "2021-03-22T14:48:51.090681Z",
     "shell.execute_reply": "2021-03-22T14:48:51.091368Z"
    },
    "papermill": {
     "duration": 88.166366,
     "end_time": "2021-03-22T14:48:51.091608",
     "exception": false,
     "start_time": "2021-03-22T14:47:22.925242",
     "status": "completed"
    },
    "tags": []
   },
   "outputs": [],
   "source": [
    "from bs4 import BeautifulSoup\n",
    "soup = lambda text:BeautifulSoup(text)\n",
    "passText = lambda text:soup(text).get_text()\n",
    "\n",
    "reviews.Text = reviews.Text.apply(passText)"
   ]
  },
  {
   "cell_type": "markdown",
   "metadata": {
    "papermill": {
     "duration": 0.117915,
     "end_time": "2021-03-22T14:48:51.327728",
     "exception": false,
     "start_time": "2021-03-22T14:48:51.209813",
     "status": "completed"
    },
    "tags": []
   },
   "source": [
    "## Histogram for the length of reviews and summary"
   ]
  },
  {
   "cell_type": "code",
   "execution_count": 37,
   "metadata": {
    "execution": {
     "iopub.execute_input": "2021-03-22T14:48:51.523683Z",
     "iopub.status.busy": "2021-03-22T14:48:51.522725Z",
     "iopub.status.idle": "2021-03-22T14:48:52.005366Z",
     "shell.execute_reply": "2021-03-22T14:48:52.005793Z"
    },
    "papermill": {
     "duration": 0.562706,
     "end_time": "2021-03-22T14:48:52.005945",
     "exception": false,
     "start_time": "2021-03-22T14:48:51.443239",
     "status": "completed"
    },
    "tags": []
   },
   "outputs": [
    {
     "data": {
      "text/plain": [
       "<AxesSubplot:ylabel='Frequency'>"
      ]
     },
     "execution_count": 37,
     "metadata": {},
     "output_type": "execute_result"
    },
    {
     "data": {
      "image/png": "[encoded data removed]",
      "text/plain": [
       "<Figure size 432x288 with 1 Axes>"
      ]
     },
     "metadata": {
      "needs_background": "light"
     },
     "output_type": "display_data"
    }
   ],
   "source": [
    "reviews.Summary.apply(lambda x:len(x.split(' '))).plot(kind='hist')"
   ]
  },
  {
   "cell_type": "code",
   "execution_count": 38,
   "metadata": {
    "execution": {
     "iopub.execute_input": "2021-03-22T14:48:52.156607Z",
     "iopub.status.busy": "2021-03-22T14:48:52.155857Z",
     "iopub.status.idle": "2021-03-22T14:48:54.127723Z",
     "shell.execute_reply": "2021-03-22T14:48:54.128287Z"
    },
    "papermill": {
     "duration": 2.047915,
     "end_time": "2021-03-22T14:48:54.128460",
     "exception": false,
     "start_time": "2021-03-22T14:48:52.080545",
     "status": "completed"
    },
    "tags": []
   },
   "outputs": [
    {
     "data": {
      "text/plain": [
       "<AxesSubplot:ylabel='Frequency'>"
      ]
     },
     "execution_count": 38,
     "metadata": {},
     "output_type": "execute_result"
    },
    {
     "data": {
      "image/png": "[encoded data removed]",
      "text/plain": [
       "<Figure size 432x288 with 1 Axes>"
      ]
     },
     "metadata": {
      "needs_background": "light"
     },
     "output_type": "display_data"
    }
   ],
   "source": [
    "reviews.Text.apply(lambda x:len(x.split(' '))).plot(kind='hist')"
   ]
  },
  {
   "cell_type": "code",
   "execution_count": 39,
   "metadata": {
    "execution": {
     "iopub.execute_input": "2021-03-22T14:48:54.282351Z",
     "iopub.status.busy": "2021-03-22T14:48:54.281454Z",
     "iopub.status.idle": "2021-03-22T14:48:56.082245Z",
     "shell.execute_reply": "2021-03-22T14:48:56.082703Z"
    },
    "papermill": {
     "duration": 1.879591,
     "end_time": "2021-03-22T14:48:56.082854",
     "exception": false,
     "start_time": "2021-03-22T14:48:54.203263",
     "status": "completed"
    },
    "tags": []
   },
   "outputs": [
    {
     "data": {
      "text/plain": [
       "214.0"
      ]
     },
     "execution_count": 39,
     "metadata": {},
     "output_type": "execute_result"
    }
   ],
   "source": [
    "reviews.Text.apply(lambda x:len(x.split(' '))).quantile(0.95)"
   ]
  },
  {
   "cell_type": "code",
   "execution_count": 40,
   "metadata": {
    "execution": {
     "iopub.execute_input": "2021-03-22T14:48:56.231569Z",
     "iopub.status.busy": "2021-03-22T14:48:56.231027Z",
     "iopub.status.idle": "2021-03-22T14:48:56.235228Z",
     "shell.execute_reply": "2021-03-22T14:48:56.234361Z"
    },
    "papermill": {
     "duration": 0.079417,
     "end_time": "2021-03-22T14:48:56.235356",
     "exception": false,
     "start_time": "2021-03-22T14:48:56.155939",
     "status": "completed"
    },
    "tags": []
   },
   "outputs": [],
   "source": [
    "input_characters = set()\n",
    "target_characters = set()"
   ]
  },
  {
   "cell_type": "code",
   "execution_count": 41,
   "metadata": {
    "execution": {
     "iopub.execute_input": "2021-03-22T14:48:56.387326Z",
     "iopub.status.busy": "2021-03-22T14:48:56.386628Z",
     "iopub.status.idle": "2021-03-22T14:48:56.389213Z",
     "shell.execute_reply": "2021-03-22T14:48:56.389669Z"
    },
    "papermill": {
     "duration": 0.077767,
     "end_time": "2021-03-22T14:48:56.389808",
     "exception": false,
     "start_time": "2021-03-22T14:48:56.312041",
     "status": "completed"
    },
    "tags": []
   },
   "outputs": [],
   "source": [
    "import re"
   ]
  },
  {
   "cell_type": "code",
   "execution_count": 42,
   "metadata": {
    "execution": {
     "iopub.execute_input": "2021-03-22T14:48:56.533600Z",
     "iopub.status.busy": "2021-03-22T14:48:56.533082Z",
     "iopub.status.idle": "2021-03-22T14:48:57.205541Z",
     "shell.execute_reply": "2021-03-22T14:48:57.205027Z"
    },
    "papermill": {
     "duration": 0.745965,
     "end_time": "2021-03-22T14:48:57.205689",
     "exception": false,
     "start_time": "2021-03-22T14:48:56.459724",
     "status": "completed"
    },
    "tags": []
   },
   "outputs": [],
   "source": [
    "from nltk.tokenize import TweetTokenizer\n",
    "tweet = TweetTokenizer()"
   ]
  },
  {
   "cell_type": "code",
   "execution_count": 50,
   "metadata": {},
   "outputs": [
    {
     "name": "stdout",
     "output_type": "stream",
     "text": [
      "Collecting contractions\n",
      "  Using cached contractions-0.0.48-py2.py3-none-any.whl (6.4 kB)\n",
      "Collecting textsearch>=0.0.21\n",
      "  Using cached textsearch-0.0.21-py2.py3-none-any.whl (7.5 kB)\n",
      "Collecting pyahocorasick\n",
      "  Using cached pyahocorasick-1.4.2.tar.gz (321 kB)\n",
      "Requirement already satisfied: anyascii in c:\\users\\t0244374\\anaconda3\\lib\\site-packages (from textsearch>=0.0.21->contractions) (0.2.0)\n",
      "Building wheels for collected packages: pyahocorasick\n",
      "  Building wheel for pyahocorasick (setup.py): started\n",
      "  Building wheel for pyahocorasick (setup.py): finished with status 'error'\n",
      "  Running setup.py clean for pyahocorasick\n",
      "Failed to build pyahocorasick\n",
      "Installing collected packages: pyahocorasick, textsearch, contractions\n",
      "    Running setup.py install for pyahocorasick: started\n",
      "    Running setup.py install for pyahocorasick: finished with status 'error'\n",
      "Note: you may need to restart the kernel to use updated packages.\n"
     ]
    },
    {
     "name": "stderr",
     "output_type": "stream",
     "text": [
      "  ERROR: Command errored out with exit status 1:\n",
      "   command: 'C:\\Users\\t0244374\\Anaconda3\\python.exe' -u -c 'import sys, setuptools, tokenize; sys.argv[0] = '\"'\"'C:\\\\Users\\\\t0244374\\\\AppData\\\\Local\\\\Temp\\\\pip-install-zbsempa5\\\\pyahocorasick\\\\setup.py'\"'\"'; __file__='\"'\"'C:\\\\Users\\\\t0244374\\\\AppData\\\\Local\\\\Temp\\\\pip-install-zbsempa5\\\\pyahocorasick\\\\setup.py'\"'\"';f=getattr(tokenize, '\"'\"'open'\"'\"', open)(__file__);code=f.read().replace('\"'\"'\\r\\n'\"'\"', '\"'\"'\\n'\"'\"');f.close();exec(compile(code, __file__, '\"'\"'exec'\"'\"'))' bdist_wheel -d 'C:\\Users\\t0244374\\AppData\\Local\\Temp\\pip-wheel-emrip465'\n",
      "       cwd: C:\\Users\\t0244374\\AppData\\Local\\Temp\\pip-install-zbsempa5\\pyahocorasick\\\n",
      "  Complete output (5 lines):\n",
      "  running bdist_wheel\n",
      "  running build\n",
      "  running build_ext\n",
      "  building 'ahocorasick' extension\n",
      "  error: Microsoft Visual C++ 14.0 or greater is required. Get it with \"Microsoft C++ Build Tools\": https://visualstudio.microsoft.com/visual-cpp-build-tools/\n",
      "  ----------------------------------------\n",
      "  ERROR: Failed building wheel for pyahocorasick\n",
      "    ERROR: Command errored out with exit status 1:\n",
      "     command: 'C:\\Users\\t0244374\\Anaconda3\\python.exe' -u -c 'import sys, setuptools, tokenize; sys.argv[0] = '\"'\"'C:\\\\Users\\\\t0244374\\\\AppData\\\\Local\\\\Temp\\\\pip-install-zbsempa5\\\\pyahocorasick\\\\setup.py'\"'\"'; __file__='\"'\"'C:\\\\Users\\\\t0244374\\\\AppData\\\\Local\\\\Temp\\\\pip-install-zbsempa5\\\\pyahocorasick\\\\setup.py'\"'\"';f=getattr(tokenize, '\"'\"'open'\"'\"', open)(__file__);code=f.read().replace('\"'\"'\\r\\n'\"'\"', '\"'\"'\\n'\"'\"');f.close();exec(compile(code, __file__, '\"'\"'exec'\"'\"'))' install --record 'C:\\Users\\t0244374\\AppData\\Local\\Temp\\pip-record-qdtawlkg\\install-record.txt' --single-version-externally-managed --compile --install-headers 'C:\\Users\\t0244374\\Anaconda3\\Include\\pyahocorasick'\n",
      "         cwd: C:\\Users\\t0244374\\AppData\\Local\\Temp\\pip-install-zbsempa5\\pyahocorasick\\\n",
      "    Complete output (5 lines):\n",
      "    running install\n",
      "    running build\n",
      "    running build_ext\n",
      "    building 'ahocorasick' extension\n",
      "    error: Microsoft Visual C++ 14.0 or greater is required. Get it with \"Microsoft C++ Build Tools\": https://visualstudio.microsoft.com/visual-cpp-build-tools/\n",
      "    ----------------------------------------\n",
      "ERROR: Command errored out with exit status 1: 'C:\\Users\\t0244374\\Anaconda3\\python.exe' -u -c 'import sys, setuptools, tokenize; sys.argv[0] = '\"'\"'C:\\\\Users\\\\t0244374\\\\AppData\\\\Local\\\\Temp\\\\pip-install-zbsempa5\\\\pyahocorasick\\\\setup.py'\"'\"'; __file__='\"'\"'C:\\\\Users\\\\t0244374\\\\AppData\\\\Local\\\\Temp\\\\pip-install-zbsempa5\\\\pyahocorasick\\\\setup.py'\"'\"';f=getattr(tokenize, '\"'\"'open'\"'\"', open)(__file__);code=f.read().replace('\"'\"'\\r\\n'\"'\"', '\"'\"'\\n'\"'\"');f.close();exec(compile(code, __file__, '\"'\"'exec'\"'\"'))' install --record 'C:\\Users\\t0244374\\AppData\\Local\\Temp\\pip-record-qdtawlkg\\install-record.txt' --single-version-externally-managed --compile --install-headers 'C:\\Users\\t0244374\\Anaconda3\\Include\\pyahocorasick' Check the logs for full command output.\n"
     ]
    }
   ],
   "source": [
    "pip install contractions"
   ]
  },
  {
   "cell_type": "code",
   "execution_count": 49,
   "metadata": {
    "execution": {
     "iopub.execute_input": "2021-03-22T14:48:57.351718Z",
     "iopub.status.busy": "2021-03-22T14:48:57.350861Z",
     "iopub.status.idle": "2021-03-22T14:48:57.360747Z",
     "shell.execute_reply": "2021-03-22T14:48:57.360253Z"
    },
    "papermill": {
     "duration": 0.084076,
     "end_time": "2021-03-22T14:48:57.360855",
     "exception": false,
     "start_time": "2021-03-22T14:48:57.276779",
     "status": "completed"
    },
    "tags": []
   },
   "outputs": [
    {
     "ename": "ModuleNotFoundError",
     "evalue": "No module named 'contradiction'",
     "output_type": "error",
     "traceback": [
      "\u001b[1;31m---------------------------------------------------------------------------\u001b[0m",
      "\u001b[1;31mModuleNotFoundError\u001b[0m                       Traceback (most recent call last)",
      "\u001b[1;32m<ipython-input-49-4f32b3293880>\u001b[0m in \u001b[0;36m<module>\u001b[1;34m\u001b[0m\n\u001b[1;32m----> 1\u001b[1;33m \u001b[1;32mimport\u001b[0m \u001b[0mcontradiction\u001b[0m\u001b[1;33m\u001b[0m\u001b[1;33m\u001b[0m\u001b[0m\n\u001b[0m",
      "\u001b[1;31mModuleNotFoundError\u001b[0m: No module named 'contradiction'"
     ]
    }
   ],
   "source": [
    "\n",
    "import contradiction"
   ]
  },
  {
   "cell_type": "code",
   "execution_count": 46,
   "metadata": {
    "execution": {
     "iopub.execute_input": "2021-03-22T14:48:57.508898Z",
     "iopub.status.busy": "2021-03-22T14:48:57.508129Z",
     "iopub.status.idle": "2021-03-22T14:49:08.094984Z",
     "shell.execute_reply": "2021-03-22T14:49:08.094496Z"
    },
    "papermill": {
     "duration": 10.663715,
     "end_time": "2021-03-22T14:49:08.095128",
     "exception": false,
     "start_time": "2021-03-22T14:48:57.431413",
     "status": "completed"
    },
    "tags": []
   },
   "outputs": [
    {
     "ename": "NameError",
     "evalue": "name 'contractions' is not defined",
     "output_type": "error",
     "traceback": [
      "\u001b[1;31m---------------------------------------------------------------------------\u001b[0m",
      "\u001b[1;31mNameError\u001b[0m                                 Traceback (most recent call last)",
      "\u001b[1;32m<ipython-input-46-a66ef799f9f3>\u001b[0m in \u001b[0;36m<module>\u001b[1;34m\u001b[0m\n\u001b[0;32m      2\u001b[0m \u001b[1;33m\u001b[0m\u001b[0m\n\u001b[0;32m      3\u001b[0m \u001b[1;31m#Fix Contradiction\u001b[0m\u001b[1;33m\u001b[0m\u001b[1;33m\u001b[0m\u001b[1;33m\u001b[0m\u001b[0m\n\u001b[1;32m----> 4\u001b[1;33m \u001b[0msampleReview\u001b[0m\u001b[1;33m.\u001b[0m\u001b[0mText\u001b[0m \u001b[1;33m=\u001b[0m \u001b[0msampleReview\u001b[0m\u001b[1;33m.\u001b[0m\u001b[0mText\u001b[0m\u001b[1;33m.\u001b[0m\u001b[0mapply\u001b[0m\u001b[1;33m(\u001b[0m\u001b[1;32mlambda\u001b[0m \u001b[0mx\u001b[0m\u001b[1;33m:\u001b[0m \u001b[0mcontractions\u001b[0m\u001b[1;33m.\u001b[0m\u001b[0mfix\u001b[0m\u001b[1;33m(\u001b[0m\u001b[0mx\u001b[0m\u001b[1;33m)\u001b[0m\u001b[1;33m)\u001b[0m\u001b[1;33m\u001b[0m\u001b[1;33m\u001b[0m\u001b[0m\n\u001b[0m\u001b[0;32m      5\u001b[0m \u001b[0msampleReview\u001b[0m\u001b[1;33m.\u001b[0m\u001b[0mSummary\u001b[0m \u001b[1;33m=\u001b[0m \u001b[0msampleReview\u001b[0m\u001b[1;33m.\u001b[0m\u001b[0mSummary\u001b[0m\u001b[1;33m.\u001b[0m\u001b[0mapply\u001b[0m\u001b[1;33m(\u001b[0m\u001b[1;32mlambda\u001b[0m \u001b[0mx\u001b[0m\u001b[1;33m:\u001b[0m \u001b[0mcontractions\u001b[0m\u001b[1;33m.\u001b[0m\u001b[0mfix\u001b[0m\u001b[1;33m(\u001b[0m\u001b[0mx\u001b[0m\u001b[1;33m)\u001b[0m\u001b[1;33m)\u001b[0m\u001b[1;33m\u001b[0m\u001b[1;33m\u001b[0m\u001b[0m\n\u001b[0;32m      6\u001b[0m \u001b[1;33m\u001b[0m\u001b[0m\n",
      "\u001b[1;32m~\\Anaconda3\\lib\\site-packages\\pandas\\core\\series.py\u001b[0m in \u001b[0;36mapply\u001b[1;34m(self, func, convert_dtype, args, **kwds)\u001b[0m\n\u001b[0;32m   4198\u001b[0m             \u001b[1;32melse\u001b[0m\u001b[1;33m:\u001b[0m\u001b[1;33m\u001b[0m\u001b[1;33m\u001b[0m\u001b[0m\n\u001b[0;32m   4199\u001b[0m                 \u001b[0mvalues\u001b[0m \u001b[1;33m=\u001b[0m \u001b[0mself\u001b[0m\u001b[1;33m.\u001b[0m\u001b[0mastype\u001b[0m\u001b[1;33m(\u001b[0m\u001b[0mobject\u001b[0m\u001b[1;33m)\u001b[0m\u001b[1;33m.\u001b[0m\u001b[0m_values\u001b[0m\u001b[1;33m\u001b[0m\u001b[1;33m\u001b[0m\u001b[0m\n\u001b[1;32m-> 4200\u001b[1;33m                 \u001b[0mmapped\u001b[0m \u001b[1;33m=\u001b[0m \u001b[0mlib\u001b[0m\u001b[1;33m.\u001b[0m\u001b[0mmap_infer\u001b[0m\u001b[1;33m(\u001b[0m\u001b[0mvalues\u001b[0m\u001b[1;33m,\u001b[0m \u001b[0mf\u001b[0m\u001b[1;33m,\u001b[0m \u001b[0mconvert\u001b[0m\u001b[1;33m=\u001b[0m\u001b[0mconvert_dtype\u001b[0m\u001b[1;33m)\u001b[0m\u001b[1;33m\u001b[0m\u001b[1;33m\u001b[0m\u001b[0m\n\u001b[0m\u001b[0;32m   4201\u001b[0m \u001b[1;33m\u001b[0m\u001b[0m\n\u001b[0;32m   4202\u001b[0m         \u001b[1;32mif\u001b[0m \u001b[0mlen\u001b[0m\u001b[1;33m(\u001b[0m\u001b[0mmapped\u001b[0m\u001b[1;33m)\u001b[0m \u001b[1;32mand\u001b[0m \u001b[0misinstance\u001b[0m\u001b[1;33m(\u001b[0m\u001b[0mmapped\u001b[0m\u001b[1;33m[\u001b[0m\u001b[1;36m0\u001b[0m\u001b[1;33m]\u001b[0m\u001b[1;33m,\u001b[0m \u001b[0mSeries\u001b[0m\u001b[1;33m)\u001b[0m\u001b[1;33m:\u001b[0m\u001b[1;33m\u001b[0m\u001b[1;33m\u001b[0m\u001b[0m\n",
      "\u001b[1;32mpandas\\_libs\\lib.pyx\u001b[0m in \u001b[0;36mpandas._libs.lib.map_infer\u001b[1;34m()\u001b[0m\n",
      "\u001b[1;32m<ipython-input-46-a66ef799f9f3>\u001b[0m in \u001b[0;36m<lambda>\u001b[1;34m(x)\u001b[0m\n\u001b[0;32m      2\u001b[0m \u001b[1;33m\u001b[0m\u001b[0m\n\u001b[0;32m      3\u001b[0m \u001b[1;31m#Fix Contradiction\u001b[0m\u001b[1;33m\u001b[0m\u001b[1;33m\u001b[0m\u001b[1;33m\u001b[0m\u001b[0m\n\u001b[1;32m----> 4\u001b[1;33m \u001b[0msampleReview\u001b[0m\u001b[1;33m.\u001b[0m\u001b[0mText\u001b[0m \u001b[1;33m=\u001b[0m \u001b[0msampleReview\u001b[0m\u001b[1;33m.\u001b[0m\u001b[0mText\u001b[0m\u001b[1;33m.\u001b[0m\u001b[0mapply\u001b[0m\u001b[1;33m(\u001b[0m\u001b[1;32mlambda\u001b[0m \u001b[0mx\u001b[0m\u001b[1;33m:\u001b[0m \u001b[0mcontractions\u001b[0m\u001b[1;33m.\u001b[0m\u001b[0mfix\u001b[0m\u001b[1;33m(\u001b[0m\u001b[0mx\u001b[0m\u001b[1;33m)\u001b[0m\u001b[1;33m)\u001b[0m\u001b[1;33m\u001b[0m\u001b[1;33m\u001b[0m\u001b[0m\n\u001b[0m\u001b[0;32m      5\u001b[0m \u001b[0msampleReview\u001b[0m\u001b[1;33m.\u001b[0m\u001b[0mSummary\u001b[0m \u001b[1;33m=\u001b[0m \u001b[0msampleReview\u001b[0m\u001b[1;33m.\u001b[0m\u001b[0mSummary\u001b[0m\u001b[1;33m.\u001b[0m\u001b[0mapply\u001b[0m\u001b[1;33m(\u001b[0m\u001b[1;32mlambda\u001b[0m \u001b[0mx\u001b[0m\u001b[1;33m:\u001b[0m \u001b[0mcontractions\u001b[0m\u001b[1;33m.\u001b[0m\u001b[0mfix\u001b[0m\u001b[1;33m(\u001b[0m\u001b[0mx\u001b[0m\u001b[1;33m)\u001b[0m\u001b[1;33m)\u001b[0m\u001b[1;33m\u001b[0m\u001b[1;33m\u001b[0m\u001b[0m\n\u001b[0;32m      6\u001b[0m \u001b[1;33m\u001b[0m\u001b[0m\n",
      "\u001b[1;31mNameError\u001b[0m: name 'contractions' is not defined"
     ]
    }
   ],
   "source": [
    "sampleReview = reviews.iloc[:20000].copy()\n",
    "\n",
    "#Fix Contradiction\n",
    "sampleReview.Text = sampleReview.Text.apply(lambda x: contractions.fix(x))\n",
    "sampleReview.Summary = sampleReview.Summary.apply(lambda x: contractions.fix(x))\n",
    "\n",
    "sampleReview.Text = sampleReview.Text.apply(lambda x: tweet.tokenize(x))\n",
    "sampleReview.Summary = sampleReview.Summary.apply(lambda x: tweet.tokenize(x))"
   ]
  },
  {
   "cell_type": "code",
   "execution_count": null,
   "metadata": {
    "execution": {
     "iopub.execute_input": "2021-03-22T14:49:08.242843Z",
     "iopub.status.busy": "2021-03-22T14:49:08.242045Z",
     "iopub.status.idle": "2021-03-22T14:49:08.261209Z",
     "shell.execute_reply": "2021-03-22T14:49:08.260797Z"
    },
    "papermill": {
     "duration": 0.094154,
     "end_time": "2021-03-22T14:49:08.261323",
     "exception": false,
     "start_time": "2021-03-22T14:49:08.167169",
     "status": "completed"
    },
    "tags": []
   },
   "outputs": [],
   "source": [
    "sampleReview.head()"
   ]
  },
  {
   "cell_type": "code",
   "execution_count": null,
   "metadata": {
    "execution": {
     "iopub.execute_input": "2021-03-22T14:49:08.626023Z",
     "iopub.status.busy": "2021-03-22T14:49:08.616098Z",
     "iopub.status.idle": "2021-03-22T14:49:08.852097Z",
     "shell.execute_reply": "2021-03-22T14:49:08.851623Z"
    },
    "papermill": {
     "duration": 0.519446,
     "end_time": "2021-03-22T14:49:08.852227",
     "exception": false,
     "start_time": "2021-03-22T14:49:08.332781",
     "status": "completed"
    },
    "tags": []
   },
   "outputs": [],
   "source": [
    "sampleReview.Text = sampleReview.Text.apply(lambda tokens: [word for word in tokens if word.isalpha()])\n",
    "sampleReview.Summary = sampleReview.Summary.apply(lambda tokens: [word for word in tokens if word.isalpha()])"
   ]
  },
  {
   "cell_type": "code",
   "execution_count": null,
   "metadata": {},
   "outputs": [],
   "source": [
    "pip install nltk"
   ]
  },
  {
   "cell_type": "code",
   "execution_count": null,
   "metadata": {},
   "outputs": [],
   "source": [
    "pip install stopwords"
   ]
  },
  {
   "cell_type": "code",
   "execution_count": null,
   "metadata": {
    "execution": {
     "iopub.execute_input": "2021-03-22T14:49:09.000485Z",
     "iopub.status.busy": "2021-03-22T14:49:08.999908Z",
     "iopub.status.idle": "2021-03-22T14:49:09.024806Z",
     "shell.execute_reply": "2021-03-22T14:49:09.024363Z"
    },
    "papermill": {
     "duration": 0.100687,
     "end_time": "2021-03-22T14:49:09.024918",
     "exception": false,
     "start_time": "2021-03-22T14:49:08.924231",
     "status": "completed"
    },
    "tags": []
   },
   "outputs": [],
   "source": [
    "import nltk\n",
    "nltk.download('stopwords')\n",
    "from nltk.corpus import stopwords\n",
    "stop_words = stopwords.words()\n",
    "stop_words = set(stop_words)"
   ]
  },
  {
   "cell_type": "code",
   "execution_count": null,
   "metadata": {
    "execution": {
     "iopub.execute_input": "2021-03-22T14:49:09.172708Z",
     "iopub.status.busy": "2021-03-22T14:49:09.171903Z",
     "iopub.status.idle": "2021-03-22T14:49:09.175245Z",
     "shell.execute_reply": "2021-03-22T14:49:09.175749Z"
    },
    "papermill": {
     "duration": 0.07936,
     "end_time": "2021-03-22T14:49:09.175874",
     "exception": false,
     "start_time": "2021-03-22T14:49:09.096514",
     "status": "completed"
    },
    "tags": []
   },
   "outputs": [],
   "source": [
    "len(sampleReview.Text)"
   ]
  },
  {
   "cell_type": "code",
   "execution_count": null,
   "metadata": {
    "execution": {
     "iopub.execute_input": "2021-03-22T14:49:09.350908Z",
     "iopub.status.busy": "2021-03-22T14:49:09.343940Z",
     "iopub.status.idle": "2021-03-22T14:49:09.551265Z",
     "shell.execute_reply": "2021-03-22T14:49:09.550851Z"
    },
    "papermill": {
     "duration": 0.304213,
     "end_time": "2021-03-22T14:49:09.551408",
     "exception": false,
     "start_time": "2021-03-22T14:49:09.247195",
     "status": "completed"
    },
    "tags": []
   },
   "outputs": [],
   "source": [
    "%%time\n",
    "sampleReview.Text = sampleReview.Text.apply(lambda tokens: [word for word in tokens if word not in stop_words][:100])"
   ]
  },
  {
   "cell_type": "code",
   "execution_count": null,
   "metadata": {
    "execution": {
     "iopub.execute_input": "2021-03-22T14:49:09.718419Z",
     "iopub.status.busy": "2021-03-22T14:49:09.717030Z",
     "iopub.status.idle": "2021-03-22T14:49:09.742872Z",
     "shell.execute_reply": "2021-03-22T14:49:09.744282Z"
    },
    "papermill": {
     "duration": 0.120262,
     "end_time": "2021-03-22T14:49:09.744516",
     "exception": false,
     "start_time": "2021-03-22T14:49:09.624254",
     "status": "completed"
    },
    "tags": []
   },
   "outputs": [],
   "source": [
    "sampleReview.head()"
   ]
  },
  {
   "cell_type": "code",
   "execution_count": null,
   "metadata": {
    "execution": {
     "iopub.execute_input": "2021-03-22T14:49:09.995696Z",
     "iopub.status.busy": "2021-03-22T14:49:09.994828Z",
     "iopub.status.idle": "2021-03-22T14:49:09.997057Z",
     "shell.execute_reply": "2021-03-22T14:49:09.997741Z"
    },
    "papermill": {
     "duration": 0.126352,
     "end_time": "2021-03-22T14:49:09.997920",
     "exception": false,
     "start_time": "2021-03-22T14:49:09.871568",
     "status": "completed"
    },
    "tags": []
   },
   "outputs": [],
   "source": [
    "# from nltk.corpus import wordnet\n",
    "# sampleReview.Text = sampleReview.Text.apply(lambda tokens: [word for word in tokens if wordnet.synsets(word)])\n",
    "# sampleReview.Summary = sampleReview.Summary.apply(lambda tokens: [word for word in tokens if wordnet.synsets(word)])"
   ]
  },
  {
   "cell_type": "code",
   "execution_count": null,
   "metadata": {
    "execution": {
     "iopub.execute_input": "2021-03-22T14:49:10.254354Z",
     "iopub.status.busy": "2021-03-22T14:49:10.253633Z",
     "iopub.status.idle": "2021-03-22T14:49:10.282635Z",
     "shell.execute_reply": "2021-03-22T14:49:10.281841Z"
    },
    "papermill": {
     "duration": 0.161517,
     "end_time": "2021-03-22T14:49:10.282806",
     "exception": false,
     "start_time": "2021-03-22T14:49:10.121289",
     "status": "completed"
    },
    "tags": []
   },
   "outputs": [],
   "source": [
    "sampleReview.Summary = sampleReview.Summary.apply(lambda x:['<BOS>']+x+['<EOS>'])"
   ]
  },
  {
   "cell_type": "code",
   "execution_count": null,
   "metadata": {
    "execution": {
     "iopub.execute_input": "2021-03-22T14:49:10.520294Z",
     "iopub.status.busy": "2021-03-22T14:49:10.506545Z",
     "iopub.status.idle": "2021-03-22T14:49:10.523030Z",
     "shell.execute_reply": "2021-03-22T14:49:10.522581Z"
    },
    "papermill": {
     "duration": 0.151327,
     "end_time": "2021-03-22T14:49:10.523162",
     "exception": false,
     "start_time": "2021-03-22T14:49:10.371835",
     "status": "completed"
    },
    "tags": []
   },
   "outputs": [],
   "source": [
    "sampleReview.Text = sampleReview.Text.apply(lambda x:' '.join(x))\n",
    "sampleReview.Summary = sampleReview.Summary.apply(lambda x:' '.join(x))"
   ]
  },
  {
   "cell_type": "code",
   "execution_count": null,
   "metadata": {
    "execution": {
     "iopub.execute_input": "2021-03-22T14:49:10.677209Z",
     "iopub.status.busy": "2021-03-22T14:49:10.676360Z",
     "iopub.status.idle": "2021-03-22T14:49:10.680314Z",
     "shell.execute_reply": "2021-03-22T14:49:10.679879Z"
    },
    "papermill": {
     "duration": 0.083229,
     "end_time": "2021-03-22T14:49:10.680444",
     "exception": false,
     "start_time": "2021-03-22T14:49:10.597215",
     "status": "completed"
    },
    "tags": []
   },
   "outputs": [],
   "source": [
    "sampleReview.Summary"
   ]
  },
  {
   "cell_type": "code",
   "execution_count": null,
   "metadata": {
    "execution": {
     "iopub.execute_input": "2021-03-22T14:49:10.835285Z",
     "iopub.status.busy": "2021-03-22T14:49:10.834553Z",
     "iopub.status.idle": "2021-03-22T14:49:10.837140Z",
     "shell.execute_reply": "2021-03-22T14:49:10.837672Z"
    },
    "papermill": {
     "duration": 0.082649,
     "end_time": "2021-03-22T14:49:10.837805",
     "exception": false,
     "start_time": "2021-03-22T14:49:10.755156",
     "status": "completed"
    },
    "tags": []
   },
   "outputs": [],
   "source": [
    "input_texts = sampleReview.Text.values\n",
    "target_texts = list(sampleReview.Summary.values)"
   ]
  },
  {
   "cell_type": "code",
   "execution_count": null,
   "metadata": {
    "execution": {
     "iopub.execute_input": "2021-03-22T14:49:10.992998Z",
     "iopub.status.busy": "2021-03-22T14:49:10.992489Z",
     "iopub.status.idle": "2021-03-22T14:49:11.510084Z",
     "shell.execute_reply": "2021-03-22T14:49:11.509605Z"
    },
    "papermill": {
     "duration": 0.596274,
     "end_time": "2021-03-22T14:49:11.510213",
     "exception": false,
     "start_time": "2021-03-22T14:49:10.913939",
     "status": "completed"
    },
    "tags": []
   },
   "outputs": [],
   "source": [
    "sampleReview.to_csv('filtered_data.csv', index=False)"
   ]
  },
  {
   "cell_type": "code",
   "execution_count": null,
   "metadata": {},
   "outputs": [],
   "source": [
    "pip install keras"
   ]
  },
  {
   "cell_type": "code",
   "execution_count": null,
   "metadata": {
    "execution": {
     "iopub.execute_input": "2021-03-22T14:49:11.665172Z",
     "iopub.status.busy": "2021-03-22T14:49:11.664571Z",
     "iopub.status.idle": "2021-03-22T14:49:13.379465Z",
     "shell.execute_reply": "2021-03-22T14:49:13.378913Z"
    },
    "papermill": {
     "duration": 1.794354,
     "end_time": "2021-03-22T14:49:13.379591",
     "exception": false,
     "start_time": "2021-03-22T14:49:11.585237",
     "status": "completed"
    },
    "tags": []
   },
   "outputs": [],
   "source": [
    "from keras.preprocessing.text import Tokenizer\n",
    "VOCAB_SIZE = 50000\n",
    "\n",
    "tokenizerText = Tokenizer(num_words=VOCAB_SIZE, oov_token='<OOV>')\n",
    "tokenizerText.fit_on_texts(input_texts)\n",
    "\n",
    "tokenizerSummary = Tokenizer(num_words=VOCAB_SIZE, oov_token='<OOV>')\n",
    "tokenizerSummary.fit_on_texts(target_texts)\n",
    "\n",
    "\n",
    "def text2seq(encoder_text, decoder_text, VOCAB_SIZE):\n",
    "  encoder_sequences = tokenizerText.texts_to_sequences(encoder_text)\n",
    "  decoder_sequences = tokenizerSummary.texts_to_sequences(decoder_text)\n",
    "  \n",
    "  return encoder_sequences, decoder_sequences\n",
    "\n",
    "encoder_sequences, decoder_sequences = text2seq(input_texts, target_texts, VOCAB_SIZE) "
   ]
  },
  {
   "cell_type": "code",
   "execution_count": null,
   "metadata": {
    "execution": {
     "iopub.execute_input": "2021-03-22T14:49:13.538354Z",
     "iopub.status.busy": "2021-03-22T14:49:13.537778Z",
     "iopub.status.idle": "2021-03-22T14:49:13.540417Z",
     "shell.execute_reply": "2021-03-22T14:49:13.540928Z"
    },
    "papermill": {
     "duration": 0.085631,
     "end_time": "2021-03-22T14:49:13.541054",
     "exception": false,
     "start_time": "2021-03-22T14:49:13.455423",
     "status": "completed"
    },
    "tags": []
   },
   "outputs": [],
   "source": [
    "textVocabSize = len(tokenizerText.word_index)\n",
    "summaryVocabSize = len(tokenizerSummary.word_index)\n",
    "textVocabSize, summaryVocabSize"
   ]
  },
  {
   "cell_type": "code",
   "execution_count": null,
   "metadata": {
    "execution": {
     "iopub.execute_input": "2021-03-22T14:49:13.715381Z",
     "iopub.status.busy": "2021-03-22T14:49:13.710378Z",
     "iopub.status.idle": "2021-03-22T14:49:13.718023Z",
     "shell.execute_reply": "2021-03-22T14:49:13.717617Z"
    },
    "papermill": {
     "duration": 0.102491,
     "end_time": "2021-03-22T14:49:13.718134",
     "exception": false,
     "start_time": "2021-03-22T14:49:13.615643",
     "status": "completed"
    },
    "tags": []
   },
   "outputs": [],
   "source": [
    "def vocab_creater(text_lists, VOCAB_SIZE, tokenizer):\n",
    "\n",
    "  dictionary = tokenizer.word_index\n",
    "  \n",
    "  word2idx = {}\n",
    "  idx2word = {}\n",
    "  for k, v in dictionary.items():\n",
    "      if v < VOCAB_SIZE:\n",
    "          word2idx[k] = v\n",
    "          idx2word[v] = k\n",
    "      if v >= VOCAB_SIZE-1:\n",
    "          continue\n",
    "          \n",
    "  return word2idx, idx2word\n",
    "\n",
    "word2idxText, idx2wordText = vocab_creater(input_texts, textVocabSize, tokenizerText)\n",
    "word2idxSummary, idx2wordSummary = vocab_creater(target_texts, summaryVocabSize, tokenizerSummary)"
   ]
  },
  {
   "cell_type": "code",
   "execution_count": null,
   "metadata": {
    "execution": {
     "iopub.execute_input": "2021-03-22T14:49:13.872872Z",
     "iopub.status.busy": "2021-03-22T14:49:13.872200Z",
     "iopub.status.idle": "2021-03-22T14:49:13.875165Z",
     "shell.execute_reply": "2021-03-22T14:49:13.874671Z"
    },
    "papermill": {
     "duration": 0.081808,
     "end_time": "2021-03-22T14:49:13.875281",
     "exception": false,
     "start_time": "2021-03-22T14:49:13.793473",
     "status": "completed"
    },
    "tags": []
   },
   "outputs": [],
   "source": [
    "EMBEDDING_DIM=100\n",
    "maxLenText=100\n",
    "maxLenSummary=40"
   ]
  },
  {
   "cell_type": "code",
   "execution_count": null,
   "metadata": {
    "execution": {
     "iopub.execute_input": "2021-03-22T14:49:14.031804Z",
     "iopub.status.busy": "2021-03-22T14:49:14.031054Z",
     "iopub.status.idle": "2021-03-22T14:49:14.372699Z",
     "shell.execute_reply": "2021-03-22T14:49:14.373106Z"
    },
    "papermill": {
     "duration": 0.422169,
     "end_time": "2021-03-22T14:49:14.373259",
     "exception": false,
     "start_time": "2021-03-22T14:49:13.951090",
     "status": "completed"
    },
    "tags": []
   },
   "outputs": [],
   "source": [
    "from keras.preprocessing.sequence import pad_sequences\n",
    "\n",
    "def padding(encoder_sequences, decoder_sequences, maxLenText, maxLenSummary):\n",
    "  \n",
    "  encoder_input_data = pad_sequences(encoder_sequences, maxlen=maxLenText, dtype='int32', padding='post', truncating='post')\n",
    "  decoder_input_data = pad_sequences(decoder_sequences, maxlen=maxLenSummary, dtype='int32', padding='post', truncating='post')\n",
    "  \n",
    "  return encoder_input_data, decoder_input_data\n",
    "\n",
    "encoder_input_data, decoder_input_data = padding(encoder_sequences, decoder_sequences,maxLenText, maxLenSummary)"
   ]
  },
  {
   "cell_type": "code",
   "execution_count": null,
   "metadata": {
    "execution": {
     "iopub.execute_input": "2021-03-22T14:49:14.529118Z",
     "iopub.status.busy": "2021-03-22T14:49:14.528409Z",
     "iopub.status.idle": "2021-03-22T14:49:14.531917Z",
     "shell.execute_reply": "2021-03-22T14:49:14.531502Z"
    },
    "papermill": {
     "duration": 0.083092,
     "end_time": "2021-03-22T14:49:14.532028",
     "exception": false,
     "start_time": "2021-03-22T14:49:14.448936",
     "status": "completed"
    },
    "tags": []
   },
   "outputs": [],
   "source": [
    "encoder_input_data.shape"
   ]
  },
  {
   "cell_type": "code",
   "execution_count": null,
   "metadata": {
    "execution": {
     "iopub.execute_input": "2021-03-22T14:49:14.688854Z",
     "iopub.status.busy": "2021-03-22T14:49:14.688142Z",
     "iopub.status.idle": "2021-03-22T14:49:14.691071Z",
     "shell.execute_reply": "2021-03-22T14:49:14.690542Z"
    },
    "papermill": {
     "duration": 0.08319,
     "end_time": "2021-03-22T14:49:14.691177",
     "exception": false,
     "start_time": "2021-03-22T14:49:14.607987",
     "status": "completed"
    },
    "tags": []
   },
   "outputs": [],
   "source": [
    "def glove_100d_dictionary():\n",
    "  embeddings_index = {}\n",
    "  f = open('../input/glove-global-vectors-for-word-representation/glove.6B.100d.txt')\n",
    "  for line in f:\n",
    "      values = line.split()\n",
    "      word = values[0]\n",
    "      coefs = np.asarray(values[1:], dtype='float32')\n",
    "      embeddings_index[word] = coefs\n",
    "  f.close()\n",
    "  return embeddings_index"
   ]
  },
  {
   "cell_type": "code",
   "execution_count": null,
   "metadata": {
    "execution": {
     "iopub.execute_input": "2021-03-22T14:49:14.848206Z",
     "iopub.status.busy": "2021-03-22T14:49:14.847694Z",
     "iopub.status.idle": "2021-03-22T14:49:31.581131Z",
     "shell.execute_reply": "2021-03-22T14:49:31.580321Z"
    },
    "papermill": {
     "duration": 16.814012,
     "end_time": "2021-03-22T14:49:31.581280",
     "exception": false,
     "start_time": "2021-03-22T14:49:14.767268",
     "status": "completed"
    },
    "tags": []
   },
   "outputs": [],
   "source": [
    "embeddings_index = glove_100d_dictionary()"
   ]
  },
  {
   "cell_type": "code",
   "execution_count": null,
   "metadata": {
    "execution": {
     "iopub.execute_input": "2021-03-22T14:49:31.784752Z",
     "iopub.status.busy": "2021-03-22T14:49:31.783144Z",
     "iopub.status.idle": "2021-03-22T14:49:31.785306Z",
     "shell.execute_reply": "2021-03-22T14:49:31.786436Z"
    },
    "papermill": {
     "duration": 0.129413,
     "end_time": "2021-03-22T14:49:31.786633",
     "exception": false,
     "start_time": "2021-03-22T14:49:31.657220",
     "status": "completed"
    },
    "tags": []
   },
   "outputs": [],
   "source": [
    "def embedding_matrix_creater(embedding_dimention, tokenizer):\n",
    "  embedding_matrix = np.zeros((len(tokenizer.word_index) + 1, embedding_dimention))\n",
    "  for word, i in tokenizer.word_index.items():\n",
    "      embedding_vector = embeddings_index.get(word)\n",
    "      if embedding_vector is not None:\n",
    "          # words not found in embedding index will be all-zeros.\n",
    "          embedding_matrix[i] = embedding_vector\n",
    "  return embedding_matrix\n"
   ]
  },
  {
   "cell_type": "code",
   "execution_count": null,
   "metadata": {
    "execution": {
     "iopub.execute_input": "2021-03-22T14:49:32.082738Z",
     "iopub.status.busy": "2021-03-22T14:49:32.081967Z",
     "iopub.status.idle": "2021-03-22T14:49:32.163863Z",
     "shell.execute_reply": "2021-03-22T14:49:32.162714Z"
    },
    "papermill": {
     "duration": 0.230107,
     "end_time": "2021-03-22T14:49:32.164039",
     "exception": false,
     "start_time": "2021-03-22T14:49:31.933932",
     "status": "completed"
    },
    "tags": []
   },
   "outputs": [],
   "source": [
    "embeddingMatrixText = embedding_matrix_creater(100, tokenizerText)\n",
    "embeddingMatrixSummary = embedding_matrix_creater(100, tokenizerSummary)"
   ]
  },
  {
   "cell_type": "code",
   "execution_count": null,
   "metadata": {
    "execution": {
     "iopub.execute_input": "2021-03-22T14:49:32.368938Z",
     "iopub.status.busy": "2021-03-22T14:49:32.368241Z",
     "iopub.status.idle": "2021-03-22T14:49:32.371649Z",
     "shell.execute_reply": "2021-03-22T14:49:32.372039Z"
    },
    "papermill": {
     "duration": 0.084714,
     "end_time": "2021-03-22T14:49:32.372170",
     "exception": false,
     "start_time": "2021-03-22T14:49:32.287456",
     "status": "completed"
    },
    "tags": []
   },
   "outputs": [],
   "source": [
    "embeddingMatrixText.shape"
   ]
  },
  {
   "cell_type": "code",
   "execution_count": null,
   "metadata": {
    "execution": {
     "iopub.execute_input": "2021-03-22T14:49:32.528102Z",
     "iopub.status.busy": "2021-03-22T14:49:32.527611Z",
     "iopub.status.idle": "2021-03-22T14:49:32.544223Z",
     "shell.execute_reply": "2021-03-22T14:49:32.544748Z"
    },
    "papermill": {
     "duration": 0.097338,
     "end_time": "2021-03-22T14:49:32.544895",
     "exception": false,
     "start_time": "2021-03-22T14:49:32.447557",
     "status": "completed"
    },
    "tags": []
   },
   "outputs": [],
   "source": [
    "from keras.layers import Embedding\n",
    "encoder_embedding_layer = Embedding(input_dim = textVocabSize+1, \n",
    "                                    output_dim = 100,\n",
    "                                    input_length = maxLenText,\n",
    "                                    mask_zero=True,\n",
    "                                    weights = [embeddingMatrixText],\n",
    "                                    trainable = False)\n",
    "decoder_embedding_layer = Embedding(input_dim = summaryVocabSize+1, \n",
    "                                    output_dim = 100,\n",
    "                                    input_length = maxLenSummary,\n",
    "                                    mask_zero=True,\n",
    "                                    weights = [embeddingMatrixSummary],\n",
    "                                    trainable = False)"
   ]
  },
  {
   "cell_type": "code",
   "execution_count": null,
   "metadata": {
    "execution": {
     "iopub.execute_input": "2021-03-22T14:49:32.699264Z",
     "iopub.status.busy": "2021-03-22T14:49:32.698754Z",
     "iopub.status.idle": "2021-03-22T14:49:32.702695Z",
     "shell.execute_reply": "2021-03-22T14:49:32.702261Z"
    },
    "papermill": {
     "duration": 0.082622,
     "end_time": "2021-03-22T14:49:32.702802",
     "exception": false,
     "start_time": "2021-03-22T14:49:32.620180",
     "status": "completed"
    },
    "tags": []
   },
   "outputs": [],
   "source": [
    "# sampleReview.Text = sampleReview.Text.apply(lambda tokens: [contractions[word] for word in tokens if word.isalpha()])\n",
    "# sampleReview.Summary = sampleReview.Summary.apply(lambda tokens: [contractions[word] for word in tokens if word.isalpha()])"
   ]
  },
  {
   "cell_type": "code",
   "execution_count": null,
   "metadata": {},
   "outputs": [],
   "source": [
    "pip install pydot"
   ]
  },
  {
   "cell_type": "code",
   "execution_count": null,
   "metadata": {
    "execution": {
     "iopub.execute_input": "2021-03-22T14:49:32.861907Z",
     "iopub.status.busy": "2021-03-22T14:49:32.861209Z",
     "iopub.status.idle": "2021-03-22T14:49:32.869299Z",
     "shell.execute_reply": "2021-03-22T14:49:32.869929Z"
    },
    "papermill": {
     "duration": 0.091559,
     "end_time": "2021-03-22T14:49:32.870113",
     "exception": false,
     "start_time": "2021-03-22T14:49:32.778554",
     "status": "completed"
    },
    "tags": []
   },
   "outputs": [],
   "source": [
    "\n",
    "from numpy.random import seed\n",
    "seed(1)\n",
    "\n",
    "from sklearn.model_selection import train_test_split\n",
    "import logging\n",
    "\n",
    "import matplotlib.pyplot as plt\n",
    "import pandas as pd\n",
    "import pydot\n",
    "\n",
    "\n",
    "import keras\n",
    "from keras import backend as k\n",
    "k.set_learning_phase(1)\n",
    "from keras.preprocessing.text import Tokenizer\n",
    "from keras import initializers\n",
    "from keras.optimizers import RMSprop,Adam\n",
    "from keras.models import Sequential,Model\n",
    "from keras.layers import Dense,LSTM,Dropout,Input,Activation,Add,concatenate, Embedding, RepeatVector\n",
    "from keras.layers.advanced_activations import LeakyReLU,PReLU\n",
    "from keras.callbacks import ModelCheckpoint\n",
    "from keras.models import load_model\n",
    "from keras.optimizers import Adam\n",
    "\n",
    "from keras.layers import TimeDistributed\n"
   ]
  },
  {
   "cell_type": "code",
   "execution_count": null,
   "metadata": {
    "execution": {
     "iopub.execute_input": "2021-03-22T14:49:33.029259Z",
     "iopub.status.busy": "2021-03-22T14:49:33.028749Z",
     "iopub.status.idle": "2021-03-22T14:49:33.032717Z",
     "shell.execute_reply": "2021-03-22T14:49:33.032292Z"
    },
    "papermill": {
     "duration": 0.084592,
     "end_time": "2021-03-22T14:49:33.032826",
     "exception": false,
     "start_time": "2021-03-22T14:49:32.948234",
     "status": "completed"
    },
    "tags": []
   },
   "outputs": [],
   "source": [
    "MAX_LEN = 100\n",
    "EMBEDDING_DIM = 100\n",
    "HIDDEN_UNITS = 300\n",
    "textVocabSize = textVocabSize+1\n",
    "summaryVocabSize = summaryVocabSize+1 \n",
    "LEARNING_RATE = 0.002\n",
    "BATCH_SIZE = 8\n",
    "EPOCHS = 5"
   ]
  },
  {
   "cell_type": "code",
   "execution_count": null,
   "metadata": {
    "execution": {
     "iopub.execute_input": "2021-03-22T14:49:33.204746Z",
     "iopub.status.busy": "2021-03-22T14:49:33.203941Z",
     "iopub.status.idle": "2021-03-22T14:49:33.208376Z",
     "shell.execute_reply": "2021-03-22T14:49:33.208765Z"
    },
    "papermill": {
     "duration": 0.099054,
     "end_time": "2021-03-22T14:49:33.208900",
     "exception": false,
     "start_time": "2021-03-22T14:49:33.109846",
     "status": "completed"
    },
    "tags": []
   },
   "outputs": [],
   "source": [
    "# input_characters = sorted(list(input_characters))+[' ']\n",
    "# target_characters = sorted(list(target_characters))+[' ']\n",
    "# num_encoder_tokens = len(encoder_input_data)\n",
    "# num_decoder_tokens = len(decoder_input_data)\n",
    "num_encoder_tokens = textVocabSize\n",
    "num_decoder_tokens = summaryVocabSize\n",
    "\n",
    "max_encoder_seq_length = max([len(txt) for txt in encoder_input_data])\n",
    "max_decoder_seq_length = max([len(txt) for txt in decoder_input_data])\n",
    "\n",
    "print(\"Number of samples:\", len(input_texts))\n",
    "print(\"Number of unique input tokens:\", num_encoder_tokens)\n",
    "print(\"Number of unique output tokens:\", num_decoder_tokens)\n",
    "print(\"Max sequence length for inputs:\", max_encoder_seq_length)\n",
    "print(\"Max sequence length for outputs:\", max_decoder_seq_length)\n"
   ]
  },
  {
   "cell_type": "code",
   "execution_count": null,
   "metadata": {
    "execution": {
     "iopub.execute_input": "2021-03-22T14:49:33.366448Z",
     "iopub.status.busy": "2021-03-22T14:49:33.365900Z",
     "iopub.status.idle": "2021-03-22T14:49:33.370703Z",
     "shell.execute_reply": "2021-03-22T14:49:33.370169Z"
    },
    "papermill": {
     "duration": 0.084686,
     "end_time": "2021-03-22T14:49:33.370833",
     "exception": false,
     "start_time": "2021-03-22T14:49:33.286147",
     "status": "completed"
    },
    "tags": []
   },
   "outputs": [],
   "source": [
    "# encoder_input_data = np.zeros(\n",
    "#     (len(input_texts), max_encoder_seq_length, num_encoder_tokens), dtype=\"float32\"\n",
    "# )\n",
    "# decoder_input_data = np.zeros(\n",
    "#     (len(input_texts), max_decoder_seq_length, num_decoder_tokens), dtype=\"float32\"\n",
    "# )\n",
    "# decoder_target_data = np.zeros(\n",
    "#     (len(input_texts), max_decoder_seq_length, num_decoder_tokens), dtype=\"float32\"\n",
    "# )"
   ]
  },
  {
   "cell_type": "code",
   "execution_count": null,
   "metadata": {
    "execution": {
     "iopub.execute_input": "2021-03-22T14:49:33.529624Z",
     "iopub.status.busy": "2021-03-22T14:49:33.529089Z",
     "iopub.status.idle": "2021-03-22T14:49:33.533099Z",
     "shell.execute_reply": "2021-03-22T14:49:33.532687Z"
    },
    "papermill": {
     "duration": 0.08335,
     "end_time": "2021-03-22T14:49:33.533206",
     "exception": false,
     "start_time": "2021-03-22T14:49:33.449856",
     "status": "completed"
    },
    "tags": []
   },
   "outputs": [],
   "source": [
    "# for i, seqs in enumerate(encoder_input_data):\n",
    "#     for j, seq in enumerate(seqs):\n",
    "#         decoder_target_data[i, j, seq] = 1.0"
   ]
  },
  {
   "cell_type": "code",
   "execution_count": null,
   "metadata": {
    "execution": {
     "iopub.execute_input": "2021-03-22T14:49:33.730877Z",
     "iopub.status.busy": "2021-03-22T14:49:33.730308Z",
     "iopub.status.idle": "2021-03-22T14:49:33.734255Z",
     "shell.execute_reply": "2021-03-22T14:49:33.733842Z"
    },
    "papermill": {
     "duration": 0.124181,
     "end_time": "2021-03-22T14:49:33.734368",
     "exception": false,
     "start_time": "2021-03-22T14:49:33.610187",
     "status": "completed"
    },
    "tags": []
   },
   "outputs": [],
   "source": [
    "from tensorflow.keras.layers import Input, LSTM, Embedding, Dense, Concatenate, TimeDistributed, Bidirectional"
   ]
  },
  {
   "cell_type": "code",
   "execution_count": null,
   "metadata": {
    "execution": {
     "iopub.execute_input": "2021-03-22T14:49:33.900176Z",
     "iopub.status.busy": "2021-03-22T14:49:33.899001Z",
     "iopub.status.idle": "2021-03-22T14:49:38.684179Z",
     "shell.execute_reply": "2021-03-22T14:49:38.683104Z"
    },
    "papermill": {
     "duration": 4.872511,
     "end_time": "2021-03-22T14:49:38.684338",
     "exception": false,
     "start_time": "2021-03-22T14:49:33.811827",
     "status": "completed"
    },
    "tags": []
   },
   "outputs": [],
   "source": [
    "\n",
    "\"\"\"\n",
    "Chatbot Inspired Encoder-Decoder-seq2seq\n",
    "\"\"\"\n",
    "encoder_inputs = Input(shape=(maxLenText, ), dtype='int32',)\n",
    "encoder_embedding = encoder_embedding_layer(encoder_inputs)\n",
    "encoder_LSTM = LSTM(HIDDEN_UNITS, return_state=True,return_sequences=True)\n",
    "encoder_outputs1, state_h, state_c = encoder_LSTM(encoder_embedding)\n",
    "\n",
    "encoder_lstm2 = LSTM(HIDDEN_UNITS,return_sequences=True,return_state=True) \n",
    "encoder_output2, state_h2, state_c2 = encoder_lstm2(encoder_outputs1) \n",
    "\n",
    "encoder_lstm3= LSTM(HIDDEN_UNITS, return_state=True) \n",
    "encoder_outputs, state_h, state_c= encoder_lstm3(encoder_output2) \n",
    "\n",
    "decoder_inputs = Input(shape=(maxLenSummary, ), dtype='int32',)\n",
    "decoder_embedding = decoder_embedding_layer(decoder_inputs)\n",
    "\n",
    "decoder_LSTM = LSTM(HIDDEN_UNITS, return_state=True, return_sequences=True)\n",
    "decoder_outputs, _, _ = decoder_LSTM(decoder_embedding, initial_state=[state_h, state_c])\n",
    "\n",
    "# attn_out, attn_states = tf.keras.layers.Attention()([encoder_outputs, decoder_outputs]) \n",
    "\n",
    "# decoder_concat_input = Concatenate(axis=-1, name='concat_layer')([decoder_outputs, attn_out])\n",
    "\n",
    "\n",
    "# dense_layer = Dense(VOCAB_SIZE, activation='softmax')\n",
    "decoder_time = TimeDistributed(Dense(summaryVocabSize, activation='softmax'))\n",
    "outputs = decoder_time(decoder_outputs)\n",
    "model = Model([encoder_inputs, decoder_inputs], outputs)"
   ]
  },
  {
   "cell_type": "code",
   "execution_count": null,
   "metadata": {
    "execution": {
     "iopub.execute_input": "2021-03-22T14:49:38.851482Z",
     "iopub.status.busy": "2021-03-22T14:49:38.850612Z",
     "iopub.status.idle": "2021-03-22T14:49:38.857920Z",
     "shell.execute_reply": "2021-03-22T14:49:38.857457Z"
    },
    "papermill": {
     "duration": 0.095617,
     "end_time": "2021-03-22T14:49:38.858033",
     "exception": false,
     "start_time": "2021-03-22T14:49:38.762416",
     "status": "completed"
    },
    "tags": []
   },
   "outputs": [],
   "source": [
    "rmsprop = RMSprop(lr=0.01, clipnorm=1.)\n",
    "model.compile(loss='categorical_crossentropy', optimizer=rmsprop, metrics=[\"accuracy\"])"
   ]
  },
  {
   "cell_type": "code",
   "execution_count": null,
   "metadata": {
    "execution": {
     "iopub.execute_input": "2021-03-22T14:49:39.019493Z",
     "iopub.status.busy": "2021-03-22T14:49:39.017990Z",
     "iopub.status.idle": "2021-03-22T14:49:39.029857Z",
     "shell.execute_reply": "2021-03-22T14:49:39.028810Z"
    },
    "papermill": {
     "duration": 0.093811,
     "end_time": "2021-03-22T14:49:39.029984",
     "exception": false,
     "start_time": "2021-03-22T14:49:38.936173",
     "status": "completed"
    },
    "tags": []
   },
   "outputs": [],
   "source": [
    "model.summary()"
   ]
  },
  {
   "cell_type": "code",
   "execution_count": null,
   "metadata": {
    "execution": {
     "iopub.execute_input": "2021-03-22T14:49:39.191780Z",
     "iopub.status.busy": "2021-03-22T14:49:39.191087Z",
     "iopub.status.idle": "2021-03-22T14:49:39.194068Z",
     "shell.execute_reply": "2021-03-22T14:49:39.193640Z"
    },
    "papermill": {
     "duration": 0.085337,
     "end_time": "2021-03-22T14:49:39.194182",
     "exception": false,
     "start_time": "2021-03-22T14:49:39.108845",
     "status": "completed"
    },
    "tags": []
   },
   "outputs": [],
   "source": [
    "import numpy as np1\n",
    "num_samples = len(decoder_sequences)\n",
    "decoder_output_data = np.zeros((num_samples, maxLenSummary, summaryVocabSize), dtype=\"int32\")"
   ]
  },
  {
   "cell_type": "code",
   "execution_count": null,
   "metadata": {
    "execution": {
     "iopub.execute_input": "2021-03-22T14:49:39.355410Z",
     "iopub.status.busy": "2021-03-22T14:49:39.354585Z",
     "iopub.status.idle": "2021-03-22T14:49:39.358437Z",
     "shell.execute_reply": "2021-03-22T14:49:39.357980Z"
    },
    "papermill": {
     "duration": 0.085843,
     "end_time": "2021-03-22T14:49:39.358547",
     "exception": false,
     "start_time": "2021-03-22T14:49:39.272704",
     "status": "completed"
    },
    "tags": []
   },
   "outputs": [],
   "source": [
    "num_samples"
   ]
  },
  {
   "cell_type": "code",
   "execution_count": null,
   "metadata": {
    "execution": {
     "iopub.execute_input": "2021-03-22T14:49:39.544356Z",
     "iopub.status.busy": "2021-03-22T14:49:39.528911Z",
     "iopub.status.idle": "2021-03-22T14:49:39.848273Z",
     "shell.execute_reply": "2021-03-22T14:49:39.847766Z"
    },
    "papermill": {
     "duration": 0.410247,
     "end_time": "2021-03-22T14:49:39.848409",
     "exception": false,
     "start_time": "2021-03-22T14:49:39.438162",
     "status": "completed"
    },
    "tags": []
   },
   "outputs": [],
   "source": [
    "for i, seqs in enumerate(decoder_sequences):\n",
    "    for j, seq in enumerate(seqs):\n",
    "        if j > 0:\n",
    "            decoder_output_data[i][j-1][seq] = 1"
   ]
  },
  {
   "cell_type": "code",
   "execution_count": null,
   "metadata": {
    "execution": {
     "iopub.execute_input": "2021-03-22T14:49:40.012078Z",
     "iopub.status.busy": "2021-03-22T14:49:40.011177Z",
     "iopub.status.idle": "2021-03-22T14:49:40.022881Z",
     "shell.execute_reply": "2021-03-22T14:49:40.022274Z"
    },
    "papermill": {
     "duration": 0.094456,
     "end_time": "2021-03-22T14:49:40.022998",
     "exception": false,
     "start_time": "2021-03-22T14:49:39.928542",
     "status": "completed"
    },
    "tags": []
   },
   "outputs": [],
   "source": [
    "art_train, art_test, sum_train, sum_test = train_test_split(encoder_input_data, decoder_input_data, test_size=0.2)\n",
    "train_num = art_train.shape[0]\n",
    "target_train = decoder_output_data[:train_num]\n",
    "target_test = decoder_output_data[train_num:]"
   ]
  },
  {
   "cell_type": "code",
   "execution_count": null,
   "metadata": {
    "execution": {
     "iopub.execute_input": "2021-03-22T14:49:40.186758Z",
     "iopub.status.busy": "2021-03-22T14:49:40.186008Z",
     "iopub.status.idle": "2021-03-22T14:49:40.188813Z",
     "shell.execute_reply": "2021-03-22T14:49:40.188398Z"
    },
    "papermill": {
     "duration": 0.0862,
     "end_time": "2021-03-22T14:49:40.188921",
     "exception": false,
     "start_time": "2021-03-22T14:49:40.102721",
     "status": "completed"
    },
    "tags": []
   },
   "outputs": [],
   "source": [
    "import tensorflow as tf"
   ]
  },
  {
   "cell_type": "code",
   "execution_count": null,
   "metadata": {
    "execution": {
     "iopub.execute_input": "2021-03-22T14:49:40.353638Z",
     "iopub.status.busy": "2021-03-22T14:49:40.352913Z",
     "iopub.status.idle": "2021-03-22T14:49:40.355109Z",
     "shell.execute_reply": "2021-03-22T14:49:40.355626Z"
    },
    "papermill": {
     "duration": 0.088337,
     "end_time": "2021-03-22T14:49:40.355750",
     "exception": false,
     "start_time": "2021-03-22T14:49:40.267413",
     "status": "completed"
    },
    "tags": []
   },
   "outputs": [],
   "source": [
    "class My_Custom_Generator(keras.utils.Sequence) :\n",
    "    def __init__(self, art_train, sum_train, decoder_output, batch_size) :\n",
    "        self.art = art_train\n",
    "        self.sum = sum_train\n",
    "        self.decoder = decoder_output\n",
    "        self.batch_size = batch_size\n",
    "\n",
    "    def __len__(self) :\n",
    "        return (np.ceil(len(self.art) / float(self.batch_size))).astype(np.int)\n",
    "  \n",
    "    def __getitem__(self, idx) :\n",
    "        batch_x1 = self.art[idx * self.batch_size : (idx+1) * self.batch_size]\n",
    "        batch_x2 = self.sum[idx * self.batch_size : (idx+1) * self.batch_size]\n",
    "        batch_y = self.decoder[idx * self.batch_size : (idx+1) * self.batch_size]\n",
    "        return [np.array(batch_x1),np.array(batch_x2)],np.array(batch_y)"
   ]
  },
  {
   "cell_type": "code",
   "execution_count": null,
   "metadata": {
    "execution": {
     "iopub.execute_input": "2021-03-22T14:49:40.516991Z",
     "iopub.status.busy": "2021-03-22T14:49:40.516347Z",
     "iopub.status.idle": "2021-03-22T14:49:40.519249Z",
     "shell.execute_reply": "2021-03-22T14:49:40.518761Z"
    },
    "papermill": {
     "duration": 0.085056,
     "end_time": "2021-03-22T14:49:40.519366",
     "exception": false,
     "start_time": "2021-03-22T14:49:40.434310",
     "status": "completed"
    },
    "tags": []
   },
   "outputs": [],
   "source": [
    "batch_size = 64\n",
    "\n",
    "my_training_batch_generator = My_Custom_Generator(art_train, sum_train, target_train, batch_size)\n",
    "my_validation_batch_generator = My_Custom_Generator(art_test, sum_test, target_test,batch_size)"
   ]
  },
  {
   "cell_type": "code",
   "execution_count": null,
   "metadata": {
    "execution": {
     "iopub.execute_input": "2021-03-22T14:49:40.682137Z",
     "iopub.status.busy": "2021-03-22T14:49:40.681527Z",
     "iopub.status.idle": "2021-03-22T15:11:12.324085Z",
     "shell.execute_reply": "2021-03-22T15:11:12.324554Z"
    },
    "papermill": {
     "duration": 1291.726571,
     "end_time": "2021-03-22T15:11:12.324735",
     "exception": false,
     "start_time": "2021-03-22T14:49:40.598164",
     "status": "completed"
    },
    "tags": []
   },
   "outputs": [],
   "source": [
    "callback = tf.keras.callbacks.EarlyStopping(monitor='accuracy', patience=4)\n",
    "model.fit_generator(generator=my_training_batch_generator,\n",
    "                   steps_per_epoch = int(16000 // batch_size),\n",
    "                   epochs = 100,\n",
    "                   verbose = 1,callbacks=[callback])"
   ]
  },
  {
   "cell_type": "code",
   "execution_count": null,
   "metadata": {
    "execution": {
     "iopub.execute_input": "2021-03-22T15:11:18.170400Z",
     "iopub.status.busy": "2021-03-22T15:11:18.169599Z",
     "iopub.status.idle": "2021-03-22T15:11:18.234284Z",
     "shell.execute_reply": "2021-03-22T15:11:18.233823Z"
    },
    "papermill": {
     "duration": 2.773596,
     "end_time": "2021-03-22T15:11:18.234445",
     "exception": false,
     "start_time": "2021-03-22T15:11:15.460849",
     "status": "completed"
    },
    "tags": []
   },
   "outputs": [],
   "source": [
    "model.save_weights('nmt_weights_100epochs.h5')"
   ]
  },
  {
   "cell_type": "code",
   "execution_count": null,
   "metadata": {
    "execution": {
     "iopub.execute_input": "2021-03-22T15:11:23.904873Z",
     "iopub.status.busy": "2021-03-22T15:11:23.903838Z",
     "iopub.status.idle": "2021-03-22T15:11:23.920350Z",
     "shell.execute_reply": "2021-03-22T15:11:23.919517Z"
    },
    "papermill": {
     "duration": 2.866686,
     "end_time": "2021-03-22T15:11:23.920505",
     "exception": false,
     "start_time": "2021-03-22T15:11:21.053819",
     "status": "completed"
    },
    "tags": []
   },
   "outputs": [],
   "source": [
    "model.load_weights('nmt_weights_100epochs.h5')"
   ]
  },
  {
   "cell_type": "code",
   "execution_count": null,
   "metadata": {
    "execution": {
     "iopub.execute_input": "2021-03-22T15:11:29.308079Z",
     "iopub.status.busy": "2021-03-22T15:11:29.307257Z",
     "iopub.status.idle": "2021-03-22T15:11:29.941824Z",
     "shell.execute_reply": "2021-03-22T15:11:29.941293Z"
    },
    "papermill": {
     "duration": 3.35559,
     "end_time": "2021-03-22T15:11:29.941953",
     "exception": false,
     "start_time": "2021-03-22T15:11:26.586363",
     "status": "completed"
    },
    "tags": []
   },
   "outputs": [],
   "source": [
    "encoder_states = [state_h, state_c]\n",
    "encoder_model = Model(encoder_inputs, encoder_states)\n",
    "\n",
    "thought_input = [Input(shape=(HIDDEN_UNITS, )), Input(shape=(HIDDEN_UNITS, ))]\n",
    "\n",
    "decoder_embedding = decoder_embedding_layer(decoder_inputs)\n",
    "\n",
    "decoder_outputss, state_h, state_c = decoder_LSTM(decoder_embedding, initial_state=thought_input)\n",
    "decoder_states = [state_h, state_c]\n",
    "\n",
    "decoder_outputs = decoder_time(decoder_outputss)\n",
    "\n",
    "decoder_model = Model(inputs=[decoder_inputs]+thought_input, outputs=[decoder_outputs]+decoder_states)"
   ]
  },
  {
   "cell_type": "code",
   "execution_count": null,
   "metadata": {
    "execution": {
     "iopub.execute_input": "2021-03-22T15:11:35.613737Z",
     "iopub.status.busy": "2021-03-22T15:11:35.611923Z",
     "iopub.status.idle": "2021-03-22T15:11:35.614311Z",
     "shell.execute_reply": "2021-03-22T15:11:35.614718Z"
    },
    "papermill": {
     "duration": 2.73243,
     "end_time": "2021-03-22T15:11:35.614858",
     "exception": false,
     "start_time": "2021-03-22T15:11:32.882428",
     "status": "completed"
    },
    "tags": []
   },
   "outputs": [],
   "source": [
    "# encoder_states = [encoder_outputs, state_h, state_c]\n",
    "# encoder_model = Model(encoder_inputs, encoder_states)\n",
    "\n",
    "\n",
    "# decoder_embedding = decoder_embedding_layer(decoder_inputs)\n",
    "# decoder_outputss, state_h, state_c = decoder_LSTM(decoder_embedding, initial_state=thought_input)\n",
    "# decoder_states = [state_h, state_c]\n",
    "\n",
    "# decoder_outputs = decoder_time(decoder_outputss)\n",
    "\n",
    "# decoder_model = Model(inputs=[decoder_inputs]+thought_input, outputs=[decoder_outputs]+decoder_states)"
   ]
  },
  {
   "cell_type": "code",
   "execution_count": null,
   "metadata": {
    "execution": {
     "iopub.execute_input": "2021-03-22T15:11:41.031669Z",
     "iopub.status.busy": "2021-03-22T15:11:41.029449Z",
     "iopub.status.idle": "2021-03-22T15:11:41.035268Z",
     "shell.execute_reply": "2021-03-22T15:11:41.034563Z"
    },
    "papermill": {
     "duration": 2.728603,
     "end_time": "2021-03-22T15:11:41.035415",
     "exception": false,
     "start_time": "2021-03-22T15:11:38.306812",
     "status": "completed"
    },
    "tags": []
   },
   "outputs": [],
   "source": [
    "decoder_model.summary()"
   ]
  },
  {
   "cell_type": "code",
   "execution_count": null,
   "metadata": {
    "execution": {
     "iopub.execute_input": "2021-03-22T15:11:47.143126Z",
     "iopub.status.busy": "2021-03-22T15:11:47.142278Z",
     "iopub.status.idle": "2021-03-22T15:11:47.148728Z",
     "shell.execute_reply": "2021-03-22T15:11:47.148265Z"
    },
    "papermill": {
     "duration": 3.154252,
     "end_time": "2021-03-22T15:11:47.148840",
     "exception": false,
     "start_time": "2021-03-22T15:11:43.994588",
     "status": "completed"
    },
    "tags": []
   },
   "outputs": [],
   "source": [
    "def decode_sequence(input_seq):\n",
    "    states_value = encoder_model.predict(input_seq)\n",
    "    target_seq = np.zeros((100,1))\n",
    "    target_seq[0, 0] = word2idxSummary['bos']\n",
    "    stop_condition = False\n",
    "    decoded_sentence = ''\n",
    "    while not stop_condition:\n",
    "        output_tokens, h, c = decoder_model.predict([target_seq] + states_value)\n",
    "\n",
    "        sampled_token_index = np.argmax(output_tokens[0, -1, :])\n",
    "        sampled_word =idx2wordSummary[sampled_token_index]\n",
    "        decoded_sentence += ' '+ sampled_word\n",
    "\n",
    "        if (sampled_word == 'eos' or\n",
    "           len(decoded_sentence) > 40):\n",
    "            stop_condition = True\n",
    "\n",
    "        target_seq = np.zeros((100,1))\n",
    "        target_seq[0, 0] = sampled_token_index\n",
    "\n",
    "        states_value = [h, c]\n",
    "    return decoded_sentence"
   ]
  },
  {
   "cell_type": "code",
   "execution_count": null,
   "metadata": {
    "execution": {
     "iopub.execute_input": "2021-03-22T15:11:52.561873Z",
     "iopub.status.busy": "2021-03-22T15:11:52.561130Z",
     "iopub.status.idle": "2021-03-22T15:11:56.632222Z",
     "shell.execute_reply": "2021-03-22T15:11:56.631782Z"
    },
    "papermill": {
     "duration": 6.739858,
     "end_time": "2021-03-22T15:11:56.632350",
     "exception": false,
     "start_time": "2021-03-22T15:11:49.892492",
     "status": "completed"
    },
    "tags": []
   },
   "outputs": [],
   "source": [
    "print(\"Text->\",tokenizerText.sequences_to_texts([art_train[10]]))\n",
    "print(\"\\n\\n\\n\")\n",
    "print(\"Summary->\",tokenizerSummary.sequences_to_texts([art_test[10]]))\n",
    "print(\"\\n\\n\\n\")\n",
    "print(\"using model->\",decode_sequence([art_test[10]]))"
   ]
  },
  {
   "cell_type": "code",
   "execution_count": null,
   "metadata": {},
   "outputs": [],
   "source": [
    "import pickle\n",
    "filename = 'model.pkl'\n",
    "pickle.dump(decode_sequence, open(filename, 'wb'))"
   ]
  },
  {
   "cell_type": "code",
   "execution_count": null,
   "metadata": {},
   "outputs": [],
   "source": [
    "model_columns = list(X.columns)\n",
    "with open('columns.pkl','wb') as file:\n",
    "    pickle.dump(model_columns, file)"
   ]
  }
 ],
 "metadata": {
  "kernelspec": {
   "display_name": "Python 3",
   "language": "python",
   "name": "python3"
  },
  "language_info": {
   "codemirror_mode": {
    "name": "ipython",
    "version": 3
   },
   "file_extension": ".py",
   "mimetype": "text/x-python",
   "name": "python",
   "nbconvert_exporter": "python",
   "pygments_lexer": "ipython3",
   "version": "3.8.5"
  },
  "papermill": {
   "default_parameters": {},
   "duration": 1537.638489,
   "end_time": "2021-03-22T15:12:03.684609",
   "environment_variables": {},
   "exception": null,
   "input_path": "__notebook__.ipynb",
   "output_path": "__notebook__.ipynb",
   "parameters": {},
   "start_time": "2021-03-22T14:46:26.046120",
   "version": "2.2.2"
  }
 },
 "nbformat": 4,
 "nbformat_minor": 4
}
